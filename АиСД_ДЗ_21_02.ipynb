{
  "nbformat": 4,
  "nbformat_minor": 0,
  "metadata": {
    "colab": {
      "provenance": []
    },
    "kernelspec": {
      "name": "python3",
      "display_name": "Python 3"
    },
    "language_info": {
      "name": "python"
    }
  },
  "cells": [
    {
      "cell_type": "markdown",
      "source": [
        "1) Создать скрипт для анализа тестовых файлов - сбора статистики упоминания слов. Аргументом командной строки является имя файла, который нужно проанализировать. Второй аргумент - количество слов, которые нужно выводить на экран (если аргумент не указан, то выводим статистику по 100 словам, статистика выводится в порядке убывания частоты слов, по каждому слову на экран выводится строка в формате \"<слово> <частота>\"). Если второй аргумент не целое число, то его рассматриваем как имя файла, в который в формате CSV с заголовком сохраняем статистику слов (Первый столбец - слово, второй столбце - частота).\n"
      ],
      "metadata": {
        "id": "DaA5nkoj4gaa"
      }
    },
    {
      "cell_type": "code",
      "source": [
        "import sys\n",
        "import csv\n",
        "import re\n",
        "from collections import Counter\n",
        "from google.colab import files\n",
        "uploaded = files.upload()\n",
        "\n",
        "def analyze_file(file_name, num_words=100):\n",
        "    try:\n",
        "        with open(file_name, 'r', encoding='utf-8') as file:\n",
        "            text = file.read()\n",
        "    except FileNotFoundError:\n",
        "        print(f\"File '{file_name}' not found.\")\n",
        "        return\n",
        "\n",
        "    # Remove special characters and split text into words\n",
        "    words = re.findall(r'\\b\\w+\\b', text.lower())\n",
        "\n",
        "    # Count word frequency\n",
        "    word_freq = Counter(words)\n",
        "\n",
        "    # Sort word frequency in descending order\n",
        "    sorted_word_freq = sorted(word_freq.items(), key=lambda x: x[1], reverse=True)\n",
        "\n",
        "    if type(num_words) == int:\n",
        "        # Display word frequency\n",
        "        print(f\"Top {num_words} words and their frequencies:\")\n",
        "        for word, freq in sorted_word_freq[:num_words]:\n",
        "            print(f\"{word}: {freq}\")\n",
        "    else:\n",
        "        # Save word frequency to CSV file\n",
        "        try:\n",
        "            with open(\"new_csv\", 'w', newline='', encoding='utf-8') as csvfile:\n",
        "                csv_writer = csv.writer(csvfile)\n",
        "                csv_writer.writerow(['Word', 'Frequency'])\n",
        "                for word, freq in sorted_word_freq:\n",
        "                    csv_writer.writerow([word, freq])\n",
        "            print(f\"Word frequency saved to '{num_words}'.\")\n",
        "        except:\n",
        "            print(\"Unable to save word frequency to CSV file.\")\n",
        "\n",
        "if __name__ == '__main__':\n",
        "    if len(sys.argv) < 2:\n",
        "        print(\"Usage: python script.py <file_name> [num_words]\")\n",
        "    else:\n",
        "        file_name = sys.argv[1]\n",
        "        if len(sys.argv) == 3:\n",
        "            num_words = sys.argv[2]\n",
        "        else:\n",
        "            num_words = 100\n",
        "        analyze_file(file_name, num_words)\n"
      ],
      "metadata": {
        "colab": {
          "base_uri": "https://localhost:8080/",
          "height": 90
        },
        "id": "o4-KaHg54oY2",
        "outputId": "985a347b-b8b2-4b80-90b6-5caa2115e00a"
      },
      "execution_count": null,
      "outputs": [
        {
          "output_type": "display_data",
          "data": {
            "text/plain": [
              "<IPython.core.display.HTML object>"
            ],
            "text/html": [
              "\n",
              "     <input type=\"file\" id=\"files-3175e448-0aad-416b-bb6f-073c040b565d\" name=\"files[]\" multiple disabled\n",
              "        style=\"border:none\" />\n",
              "     <output id=\"result-3175e448-0aad-416b-bb6f-073c040b565d\">\n",
              "      Upload widget is only available when the cell has been executed in the\n",
              "      current browser session. Please rerun this cell to enable.\n",
              "      </output>\n",
              "      <script>// Copyright 2017 Google LLC\n",
              "//\n",
              "// Licensed under the Apache License, Version 2.0 (the \"License\");\n",
              "// you may not use this file except in compliance with the License.\n",
              "// You may obtain a copy of the License at\n",
              "//\n",
              "//      http://www.apache.org/licenses/LICENSE-2.0\n",
              "//\n",
              "// Unless required by applicable law or agreed to in writing, software\n",
              "// distributed under the License is distributed on an \"AS IS\" BASIS,\n",
              "// WITHOUT WARRANTIES OR CONDITIONS OF ANY KIND, either express or implied.\n",
              "// See the License for the specific language governing permissions and\n",
              "// limitations under the License.\n",
              "\n",
              "/**\n",
              " * @fileoverview Helpers for google.colab Python module.\n",
              " */\n",
              "(function(scope) {\n",
              "function span(text, styleAttributes = {}) {\n",
              "  const element = document.createElement('span');\n",
              "  element.textContent = text;\n",
              "  for (const key of Object.keys(styleAttributes)) {\n",
              "    element.style[key] = styleAttributes[key];\n",
              "  }\n",
              "  return element;\n",
              "}\n",
              "\n",
              "// Max number of bytes which will be uploaded at a time.\n",
              "const MAX_PAYLOAD_SIZE = 100 * 1024;\n",
              "\n",
              "function _uploadFiles(inputId, outputId) {\n",
              "  const steps = uploadFilesStep(inputId, outputId);\n",
              "  const outputElement = document.getElementById(outputId);\n",
              "  // Cache steps on the outputElement to make it available for the next call\n",
              "  // to uploadFilesContinue from Python.\n",
              "  outputElement.steps = steps;\n",
              "\n",
              "  return _uploadFilesContinue(outputId);\n",
              "}\n",
              "\n",
              "// This is roughly an async generator (not supported in the browser yet),\n",
              "// where there are multiple asynchronous steps and the Python side is going\n",
              "// to poll for completion of each step.\n",
              "// This uses a Promise to block the python side on completion of each step,\n",
              "// then passes the result of the previous step as the input to the next step.\n",
              "function _uploadFilesContinue(outputId) {\n",
              "  const outputElement = document.getElementById(outputId);\n",
              "  const steps = outputElement.steps;\n",
              "\n",
              "  const next = steps.next(outputElement.lastPromiseValue);\n",
              "  return Promise.resolve(next.value.promise).then((value) => {\n",
              "    // Cache the last promise value to make it available to the next\n",
              "    // step of the generator.\n",
              "    outputElement.lastPromiseValue = value;\n",
              "    return next.value.response;\n",
              "  });\n",
              "}\n",
              "\n",
              "/**\n",
              " * Generator function which is called between each async step of the upload\n",
              " * process.\n",
              " * @param {string} inputId Element ID of the input file picker element.\n",
              " * @param {string} outputId Element ID of the output display.\n",
              " * @return {!Iterable<!Object>} Iterable of next steps.\n",
              " */\n",
              "function* uploadFilesStep(inputId, outputId) {\n",
              "  const inputElement = document.getElementById(inputId);\n",
              "  inputElement.disabled = false;\n",
              "\n",
              "  const outputElement = document.getElementById(outputId);\n",
              "  outputElement.innerHTML = '';\n",
              "\n",
              "  const pickedPromise = new Promise((resolve) => {\n",
              "    inputElement.addEventListener('change', (e) => {\n",
              "      resolve(e.target.files);\n",
              "    });\n",
              "  });\n",
              "\n",
              "  const cancel = document.createElement('button');\n",
              "  inputElement.parentElement.appendChild(cancel);\n",
              "  cancel.textContent = 'Cancel upload';\n",
              "  const cancelPromise = new Promise((resolve) => {\n",
              "    cancel.onclick = () => {\n",
              "      resolve(null);\n",
              "    };\n",
              "  });\n",
              "\n",
              "  // Wait for the user to pick the files.\n",
              "  const files = yield {\n",
              "    promise: Promise.race([pickedPromise, cancelPromise]),\n",
              "    response: {\n",
              "      action: 'starting',\n",
              "    }\n",
              "  };\n",
              "\n",
              "  cancel.remove();\n",
              "\n",
              "  // Disable the input element since further picks are not allowed.\n",
              "  inputElement.disabled = true;\n",
              "\n",
              "  if (!files) {\n",
              "    return {\n",
              "      response: {\n",
              "        action: 'complete',\n",
              "      }\n",
              "    };\n",
              "  }\n",
              "\n",
              "  for (const file of files) {\n",
              "    const li = document.createElement('li');\n",
              "    li.append(span(file.name, {fontWeight: 'bold'}));\n",
              "    li.append(span(\n",
              "        `(${file.type || 'n/a'}) - ${file.size} bytes, ` +\n",
              "        `last modified: ${\n",
              "            file.lastModifiedDate ? file.lastModifiedDate.toLocaleDateString() :\n",
              "                                    'n/a'} - `));\n",
              "    const percent = span('0% done');\n",
              "    li.appendChild(percent);\n",
              "\n",
              "    outputElement.appendChild(li);\n",
              "\n",
              "    const fileDataPromise = new Promise((resolve) => {\n",
              "      const reader = new FileReader();\n",
              "      reader.onload = (e) => {\n",
              "        resolve(e.target.result);\n",
              "      };\n",
              "      reader.readAsArrayBuffer(file);\n",
              "    });\n",
              "    // Wait for the data to be ready.\n",
              "    let fileData = yield {\n",
              "      promise: fileDataPromise,\n",
              "      response: {\n",
              "        action: 'continue',\n",
              "      }\n",
              "    };\n",
              "\n",
              "    // Use a chunked sending to avoid message size limits. See b/62115660.\n",
              "    let position = 0;\n",
              "    do {\n",
              "      const length = Math.min(fileData.byteLength - position, MAX_PAYLOAD_SIZE);\n",
              "      const chunk = new Uint8Array(fileData, position, length);\n",
              "      position += length;\n",
              "\n",
              "      const base64 = btoa(String.fromCharCode.apply(null, chunk));\n",
              "      yield {\n",
              "        response: {\n",
              "          action: 'append',\n",
              "          file: file.name,\n",
              "          data: base64,\n",
              "        },\n",
              "      };\n",
              "\n",
              "      let percentDone = fileData.byteLength === 0 ?\n",
              "          100 :\n",
              "          Math.round((position / fileData.byteLength) * 100);\n",
              "      percent.textContent = `${percentDone}% done`;\n",
              "\n",
              "    } while (position < fileData.byteLength);\n",
              "  }\n",
              "\n",
              "  // All done.\n",
              "  yield {\n",
              "    response: {\n",
              "      action: 'complete',\n",
              "    }\n",
              "  };\n",
              "}\n",
              "\n",
              "scope.google = scope.google || {};\n",
              "scope.google.colab = scope.google.colab || {};\n",
              "scope.google.colab._files = {\n",
              "  _uploadFiles,\n",
              "  _uploadFilesContinue,\n",
              "};\n",
              "})(self);\n",
              "</script> "
            ]
          },
          "metadata": {}
        },
        {
          "output_type": "stream",
          "name": "stdout",
          "text": [
            "Saving 1.txt.txt to 1.txt (1).txt\n",
            "File '-f' not found.\n"
          ]
        }
      ]
    },
    {
      "cell_type": "markdown",
      "source": [
        "2) Создать скрипт, которому в командной строке передаются имена файлов. В файлах в формате CSV с заголовком содержится информация о частоте слов: первый столбец - слово, второй столбце - частота. Выполнить агрегацию информации о частоте слов из всех переданных файлов (т.е. рассчитать суммарную частоту для всех упомянутых слов). Результат сохранить в файл с именем, которое введет пользователь в ответ на соответствующий запрос.\n"
      ],
      "metadata": {
        "id": "uDAX4xpQ8O6t"
      }
    },
    {
      "cell_type": "code",
      "source": [
        "import sys\n",
        "import csv\n",
        "from google.colab import files\n",
        "uploaded = files.upload()\n",
        "\n",
        "# Считываем имена файлов из аргументов командной строки\n",
        "files = sys.argv[1:]\n",
        "\n",
        "# Создаем словарь для хранения частот слов\n",
        "word_freq = {}\n",
        "\n",
        "# Обходим все переданные файлы\n",
        "for file_name in files:\n",
        "    with open(file_name, 'r') as file:\n",
        "        reader = csv.reader(file)\n",
        "        next(reader)  # Пропускаем заголовок\n",
        "        for row in reader:\n",
        "            word = row[0]\n",
        "            freq = int(row[1])\n",
        "            if word in word_freq:\n",
        "                word_freq[word] += freq\n",
        "            else:\n",
        "                word_freq[word] = freq\n",
        "\n",
        "# Запрашиваем у пользователя имя файла для сохранения результата\n",
        "output_file = input(\"Введите имя файла для сохранения результата: \")\n",
        "\n",
        "# Записываем результаты в файл\n",
        "with open(output_file, 'w') as result_file:\n",
        "    writer = csv.writer(result_file)\n",
        "    writer.writerow(['Слово', 'Суммарная частота'])\n",
        "    for word, freq in word_freq.items():\n",
        "        writer.writerow([word, freq])\n",
        "\n",
        "print(\"Результат успешно сохранен в файл\", output_file)"
      ],
      "metadata": {
        "id": "rgGw__Oy8POR"
      },
      "execution_count": null,
      "outputs": []
    },
    {
      "cell_type": "markdown",
      "source": [
        "2.1) Скрипт должен адекватно реагировать на ситуацию отсутствия файлов и другие проблемы с вводом/выводом."
      ],
      "metadata": {
        "id": "y4FjWP458nBC"
      }
    },
    {
      "cell_type": "code",
      "source": [
        "from google.colab import files\n",
        "uploaded = files.upload()\n",
        "try:\n",
        "    with open('file.txt', 'r') as file:\n",
        "        data = file.read()\n",
        "        print(data)\n",
        "except FileNotFoundError:\n",
        "    print(\"Файл не найден\")\n",
        "except IOError:\n",
        "    print(\"Ошибка ввода/вывода\")"
      ],
      "metadata": {
        "id": "czUB6tQk8nQN"
      },
      "execution_count": null,
      "outputs": []
    },
    {
      "cell_type": "markdown",
      "source": [
        "2.2) Оформить модуль с функциями, которые используются в задании 1 и 2."
      ],
      "metadata": {
        "id": "Nddtu6Ia8t3s"
      }
    },
    {
      "cell_type": "code",
      "source": [
        "# word_stats_module.py\n",
        "\n",
        "import sys\n",
        "import csv\n",
        "from collections import Counter\n",
        "from google.colab import files\n",
        "uploaded = files.upload()\n",
        "\n",
        "def count_word_frequency(file_name):\n",
        "    words = []\n",
        "\n",
        "    with open(file_name, 'r') as file:\n",
        "        for line in file:\n",
        "            words.extend(line.strip().split())\n",
        "\n",
        "    word_freq = Counter(words)\n",
        "    return word_freq\n",
        "\n",
        "def display_word_stats(word_freq, num_words=100):\n",
        "    sorted_word_freq = sorted(word_freq.items(), key=lambda x: x[1], reverse=True)\n",
        "\n",
        "    if isinstance(num_words, int):\n",
        "        num_words = min(num_words, len(sorted_word_freq))\n",
        "        for i in range(num_words):\n",
        "            print(f\"{sorted_word_freq[i][0]} {sorted_word_freq[i][1]}\")\n",
        "    else:\n",
        "        with open(num_words, 'w', newline='') as file:\n",
        "            writer = csv.writer(file)\n",
        "            writer.writerow(['Word', 'Frequency'])\n",
        "            for key, value in sorted_word_freq:\n",
        "                writer.writerow([key, value])\n",
        "\n",
        "if __name__ == \"__main__\":\n",
        "    if len(sys.argv) < 2:\n",
        "        print(\"Usage: python script_name.py <file_name> [num_words]\")\n",
        "    else:\n",
        "        file_name = sys.argv[1]\n",
        "        if len(sys.argv) == 3:\n",
        "            num_words = sys.argv[2] if sys.argv[2].isdigit() else int(sys.argv[2])\n",
        "        else:\n",
        "            num_words = 100\n",
        "\n",
        "        word_freq = count_word_frequency(file_name)\n",
        "        display_word_stats(word_freq, num_words)\n"
      ],
      "metadata": {
        "id": "myuO2wTn9LAT"
      },
      "execution_count": null,
      "outputs": []
    },
    {
      "cell_type": "markdown",
      "source": [
        "Для выполнения второй задачи, можно создать дополнительный скрипт, который будет использовать функции из этого модуля:"
      ],
      "metadata": {
        "id": "hLVXa1lL9Q6w"
      }
    },
    {
      "cell_type": "code",
      "source": [
        "# aggregate_word_stats.py\n",
        "\n",
        "import sys\n",
        "import csv\n",
        "from word_stats_module import count_word_frequency\n",
        "from google.colab import files\n",
        "uploaded = files.upload()\n",
        "\n",
        "if __name__ == \"__main__\":\n",
        "    if len(sys.argv) < 3:\n",
        "        print(\"Usage: python aggregate_word_stats.py <output_file> <input_files>\")\n",
        "    else:\n",
        "        output_file = sys.argv[1]\n",
        "        input_files = sys.argv[2:]\n",
        "\n",
        "        total_word_freq = Counter()\n",
        "\n",
        "        for file_name in input_files:\n",
        "            word_freq = count_word_frequency(file_name)\n",
        "            total_word_freq += word_freq\n",
        "\n",
        "        with open(output_file, 'w', newline='') as file:\n",
        "            writer = csv.writer(file)\n",
        "            writer.writerow(['Word', 'Total Frequency'])\n",
        "            for key, value in total_word_freq.items():\n",
        "                writer.writerow([key, value])"
      ],
      "metadata": {
        "id": "VG97iZyj9UdB"
      },
      "execution_count": null,
      "outputs": []
    },
    {
      "cell_type": "markdown",
      "source": [
        "3.1) Написать программу, которая запускается из консоли и считает сумму переданных в неё чисел"
      ],
      "metadata": {
        "id": "WudLymmD9b8o"
      }
    },
    {
      "cell_type": "code",
      "source": [
        "import sys\n",
        "\n",
        "def calculate_sum(numbers):\n",
        "    return sum(numbers)\n",
        "\n",
        "if __name__ == \"__main__\":\n",
        "    numbers = [int(num) for num in sys.argv[1:]]  # Преобразуем аргументы в целые числа\n",
        "    result = calculate_sum(numbers)\n",
        "    print(f\"Сумма чисел: {result}\")"
      ],
      "metadata": {
        "id": "fqLGoJlr9sqW"
      },
      "execution_count": null,
      "outputs": []
    },
    {
      "cell_type": "markdown",
      "source": [
        "Вы можете запустить эту программу из командной строки следующим образом:\n",
        "\n",
        "python имя_файла.py число1 число2 число3 ...\n",
        "\n",
        "Например:\n",
        "\n",
        "python sum.py 5 10 15\n",
        "\n",
        "Программа выведет сумму чисел (5 + 10 + 15 = 30)."
      ],
      "metadata": {
        "id": "GQlr7sAc-HgY"
      }
    },
    {
      "cell_type": "markdown",
      "source": [
        "3.2) Добавить в эту программу произведение"
      ],
      "metadata": {
        "id": "_InpyFQ1-tBA"
      }
    },
    {
      "cell_type": "code",
      "source": [
        "import sys\n",
        "\n",
        "def calculate_sum(numbers):\n",
        "    return sum(numbers)\n",
        "\n",
        "def calculate_product(numbers):\n",
        "    result = 1\n",
        "    for num in numbers:\n",
        "        result *= num\n",
        "    return result\n",
        "\n",
        "if __name__ == \"__main__\":\n",
        "    numbers = [int(num) for num in sys.argv[1:]]  # Преобразуем аргументы в целые числа\n",
        "    sum_result = calculate_sum(numbers)\n",
        "    product_result = calculate_product(numbers)\n",
        "    print(f\"Сумма чисел: {sum_result}\")\n",
        "    print(f\"Произведение чисел: {product_result}\")"
      ],
      "metadata": {
        "id": "3bEZ8mHe-tO3"
      },
      "execution_count": null,
      "outputs": []
    },
    {
      "cell_type": "markdown",
      "source": [
        "Вы можете запустить эту программу из командной строки следующим образом:\n",
        "\n",
        "python имя_файла.py число1 число2 число3 ...\n",
        "\n",
        "Например:\n",
        "\n",
        "python sum_product.py 2 3 4\n",
        "\n",
        "Программа выведет сумму чисел (2 + 3 + 4 = 9) и произведение чисел (2 * 3 * 4 = 24).\n"
      ],
      "metadata": {
        "id": "Ig1djqom-u9m"
      }
    },
    {
      "cell_type": "markdown",
      "source": [
        "3.3) По переданному параметру считать либо сумму, либо произведение"
      ],
      "metadata": {
        "id": "Iwnve1Lw_I7f"
      }
    },
    {
      "cell_type": "code",
      "source": [
        "import sys\n",
        "\n",
        "def calculate_sum(numbers):\n",
        "    return sum(numbers)\n",
        "\n",
        "def calculate_product(numbers):\n",
        "    result = 1\n",
        "    for num in numbers:\n",
        "        result *= num\n",
        "    return result\n",
        "\n",
        "if __name__ == \"__main__\":\n",
        "    args = sys.argv[1:]\n",
        "\n",
        "    if len(args) < 3:\n",
        "        print(\"Пожалуйста, укажите числа для вычисления и режим работы (сумма или произведение).\")\n",
        "    else:\n",
        "        numbers = [int(num) for num in args[:-1]]  # Преобразуем числа в целые числа\n",
        "        mode = args[-1].lower()  # Режим работы (сумма или произведение)\n",
        "\n",
        "        if mode == \"сумма\":\n",
        "            result = calculate_sum(numbers)\n",
        "            print(f\"Сумма чисел: {result}\")\n",
        "        elif mode == \"произведение\":\n",
        "            result = calculate_product(numbers)\n",
        "            print(f\"Произведение чисел: {result}\")\n",
        "        else:\n",
        "            print(\"Неверно указан режим работы. Укажите 'сумма' или 'произведение'.\")"
      ],
      "metadata": {
        "colab": {
          "base_uri": "https://localhost:8080/"
        },
        "id": "6Lt97awn_KcR",
        "outputId": "48a2863a-f994-4300-d607-85fbc5ba7ef2"
      },
      "execution_count": null,
      "outputs": [
        {
          "output_type": "stream",
          "name": "stdout",
          "text": [
            "Пожалуйста, укажите числа для вычисления и режим работы (сумма или произведение).\n"
          ]
        }
      ]
    },
    {
      "cell_type": "markdown",
      "source": [
        "Вы можете запустить эту программу из командной строки следующим образом:\n",
        "\n",
        "python имя_файла.py число1 число2 ... сумма или python имя_файла.py число1 число2 ... произведение\n",
        "\n",
        "Например:\n",
        "\n",
        "python sum_product_mode.py 2 3 4 сумма\n",
        "\n",
        "Программа выведет сумму чисел (2 + 3 + 4 = 9)."
      ],
      "metadata": {
        "id": "rX63XhwO_Mh-"
      }
    },
    {
      "cell_type": "markdown",
      "source": [
        "3.4) Оформить дополнительный модуль."
      ],
      "metadata": {
        "id": "GC2Glq7M_ZHT"
      }
    },
    {
      "cell_type": "code",
      "source": [
        "import sys\n",
        "\n",
        "def calculate_sum(numbers):\n",
        "    return sum(numbers)\n",
        "\n",
        "def calculate_product(numbers):\n",
        "    result = 1\n",
        "    for num in numbers:\n",
        "        result *= num\n",
        "    return result\n",
        "\n",
        "if __name__ == \"__main__\":\n",
        "    args = sys.argv[1:]\n",
        "\n",
        "    if len(args) < 1:\n",
        "        print(\"Пожалуйста, укажите числа для вычисления.\")\n",
        "    else:\n",
        "        numbers = [int(num) for num in args]  # Преобразуем числа в целые числа\n",
        "\n",
        "        sum_result = calculate_sum(numbers)\n",
        "        print(f\"Сумма чисел: {sum_result}\")\n",
        "\n",
        "        product_result = calculate_product(numbers)\n",
        "        print(f\"Произведение чисел: {product_result}\")\n"
      ],
      "metadata": {
        "id": "UMSPHsxp_Z8F"
      },
      "execution_count": null,
      "outputs": []
    },
    {
      "cell_type": "code",
      "source": [
        "# Для выполнения задачи 3.3 и 3.4, вы можете создать дополнительный модуль calculator.py, который будет содержать функции для расчета суммы и произведения чисел:\n",
        "def calculate_sum(numbers):\n",
        "    return sum(numbers)\n",
        "\n",
        "def calculate_product(numbers):\n",
        "    result = 1\n",
        "    for num in numbers:\n",
        "        result *= num\n",
        "    return result\n"
      ],
      "metadata": {
        "id": "PY7T7FZ6_tN4"
      },
      "execution_count": null,
      "outputs": []
    },
    {
      "cell_type": "markdown",
      "source": [
        "Затем в основной программе вы можете импортировать эти функции и использовать их для вычисления суммы или произведения в зависимости от переданного параметра."
      ],
      "metadata": {
        "id": "6uOe7r97_0Df"
      }
    },
    {
      "cell_type": "markdown",
      "source": [
        "4) Реализовать модуль calculate.py, содержащий набор функций для работы с целыми числами, записанными как на русском языке (например: тридцать восемь), так и в виде простых арифметических выражений (например: 2 + 3).\n",
        "На базе этого модуля подготовить скрипт calculate.py со следующими возможностями:\n",
        "1) python claculate.py to_numbers my_file.txt\n",
        "Вызов приводит к преобразованию всех чисел, написанных на русском языке в числовом виде и сохранению изменений в файл с тем же именем.\n",
        "python claculate.py to_numbers my_file.txt my_file_res.txt\n",
        "(результат сохраняется в файл с именем my_file_res.txt)\n"
      ],
      "metadata": {
        "id": "x4CanAmM_7Pm"
      }
    },
    {
      "cell_type": "code",
      "source": [
        "from num2words import num2words\n",
        "import re\n",
        "from google.colab import files\n",
        "uploaded = files.upload()\n",
        "\n",
        "def convert_to_numbers(text):\n",
        "    def replace_number(match):\n",
        "        number_text = match.group(0)\n",
        "        try:\n",
        "            number = int(number_text)\n",
        "            return str(number)\n",
        "        except ValueError:\n",
        "            try:\n",
        "                number = num2words(int(match.group(0)), lang='ru')\n",
        "                return number\n",
        "            except:\n",
        "                return number_text\n",
        "\n",
        "    pattern = r'\\b(?:ноль|один|два|три|четыре|пять|шесть|семь|восемь|девять|десять|\\\n",
        "        одиннадцать|двенадцать|тринадцать|четырнадцать|пятнадцать|шестнадцать|семнадцать|восемнадцать|девятнадцать|\\\n",
        "        двадцать|тридцать|сорок|пятьдесят|шестьдесят|семьдесят|восемьдесят|девяносто|сто|тысяча)\\b'\n",
        "\n",
        "    return re.sub(pattern, replace_number, text)\n",
        "\n",
        "def process_file(input_file, output_file=None):\n",
        "    with open(input_file, 'r', encoding='utf-8') as file:\n",
        "        content = file.read()\n",
        "\n",
        "    converted_content = convert_to_numbers(content)\n",
        "\n",
        "    if output_file:\n",
        "        with open(output_file, 'w', encoding='utf-8') as file:\n",
        "            file.write(converted_content)\n",
        "    else:\n",
        "        with open(input_file, 'w', encoding='utf-8') as file:\n",
        "            file.write(converted_content)\n",
        "\n",
        "if __name__ == \"__main__\":\n",
        "    import sys\n",
        "\n",
        "    if len(sys.argv) < 3:\n",
        "        print(\"Пожалуйста, укажите режим работы (to_numbers) и имя файла.\")\n",
        "    elif sys.argv[1] == \"to_numbers\":\n",
        "        input_file = sys.argv[2]\n",
        "        output_file = sys.argv[3] if len(sys.argv) > 3 else None\n",
        "        process_file(input_file, output_file)\n"
      ],
      "metadata": {
        "id": "trLVBeHvAI3b"
      },
      "execution_count": null,
      "outputs": []
    },
    {
      "cell_type": "markdown",
      "source": [
        "Этот модуль использует библиотеку num2words для преобразования чисел на русском языке в числовой формат. Функция convert_to_numbers заменяет числа на русском языке в тексте на соответствующие числа в числовом формате. Функция process_file читает содержимое файла, преобразует числа и сохраняет их обратно в тот же файл или в новый файл.\n",
        "\n",
        "Вы можете использовать этот скрипт следующим образом:\n",
        "\n",
        "python calculate.py to_numbers my_file.txt my_file_res.txt\n",
        "\n",
        "Это приведет к преобразованию чисел на русском языке в файле my_file.txt и сохранению результатов в файле my_file_res.txt."
      ],
      "metadata": {
        "id": "iBnvoJcHAKql"
      }
    }
  ]
}