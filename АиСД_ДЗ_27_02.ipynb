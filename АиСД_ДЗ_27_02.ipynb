{
  "nbformat": 4,
  "nbformat_minor": 0,
  "metadata": {
    "colab": {
      "provenance": []
    },
    "kernelspec": {
      "name": "python3",
      "display_name": "Python 3"
    },
    "language_info": {
      "name": "python"
    }
  },
  "cells": [
    {
      "cell_type": "markdown",
      "source": [
        "1) Реализовать простейший динамический массив, поддерживающий добавление элемента в конец массива при помощи метода append(e).\n",
        "Также должны поддерживаться следующие операции:\n",
        "-  извлечение элемента по индексу;\n",
        "-  устанавка нового значения по индексу;\n",
        "-  получение текущей длины массива.\n",
        "1.1) Добавить реализацию удаления элемента из любого места массива и поддержку корректного вывода массива при помощи функции print."
      ],
      "metadata": {
        "id": "ycQlHMa55VqN"
      }
    },
    {
      "cell_type": "code",
      "source": [
        "class DynamicArray:\n",
        "    def __init__(self):\n",
        "        self.data = []\n",
        "\n",
        "    def append(self, e):\n",
        "        self.data.append(e)\n",
        "\n",
        "    def get_element(self, index):\n",
        "        return self.data[index]\n",
        "\n",
        "    def set_element(self, index, value):\n",
        "        self.data[index] = value\n",
        "\n",
        "    def delete_element(self, index):\n",
        "        del self.data[index]\n",
        "\n",
        "    def get_length(self):\n",
        "        return len(self.data)\n",
        "\n",
        "    def __str__(self):\n",
        "        return str(self.data)\n",
        "\n",
        "\n",
        "# Пример использования\n",
        "arr = DynamicArray()\n",
        "arr.append(1)\n",
        "arr.append(2)\n",
        "arr.append(3)\n",
        "print(arr.get_length())\n",
        "print(arr.get_element(1))\n",
        "arr.set_element(1, 5)\n",
        "print(arr)\n",
        "arr.delete_element(1)\n",
        "print(arr)\n",
        "\n"
      ],
      "metadata": {
        "colab": {
          "base_uri": "https://localhost:8080/"
        },
        "id": "xjHeUoE45TNM",
        "outputId": "ecce54fc-d31f-4838-c338-13df5e925526"
      },
      "execution_count": 1,
      "outputs": [
        {
          "output_type": "stream",
          "name": "stdout",
          "text": [
            "3\n",
            "2\n",
            "[1, 5, 3]\n",
            "[1, 3]\n"
          ]
        }
      ]
    },
    {
      "cell_type": "markdown",
      "source": [
        "2)Реализовать генератор, который возвращает значение поочередно извлекаемое из конца двух очередей (в качестве очереди используется deque из collections). Если очередь из которой извлекается элемент пуста - генератор заканчивает работу."
      ],
      "metadata": {
        "id": "TTgXnOSyAasI"
      }
    },
    {
      "cell_type": "code",
      "source": [
        "from collections import deque\n",
        "\n",
        "def deque_value_generator(queue1, queue2):\n",
        "    while queue1 or queue2:\n",
        "        if queue1:\n",
        "            yield queue1.pop()\n",
        "        if queue2:\n",
        "            yield queue2.pop()\n",
        "\n",
        "# Пример использования\n",
        "queue1 = deque([1, 2, 3])\n",
        "queue2 = deque([4, 5, 6])\n",
        "\n",
        "gen = deque_value_generator(queue1, queue2)\n",
        "for val in gen:\n",
        "    print(val)"
      ],
      "metadata": {
        "colab": {
          "base_uri": "https://localhost:8080/"
        },
        "id": "Je_PsTQ7AmUE",
        "outputId": "11d99b02-732e-47c6-d51e-bfb44a6db6bc"
      },
      "execution_count": 3,
      "outputs": [
        {
          "output_type": "stream",
          "name": "stdout",
          "text": [
            "3\n",
            "6\n",
            "2\n",
            "5\n",
            "1\n",
            "4\n"
          ]
        }
      ]
    },
    {
      "cell_type": "markdown",
      "source": [
        "3)Реализовать классы с методом action():\n",
        "  а) Класс Pump - в методе action() извлекает очередное значение из генератора и помещает значение в очередь (очередь передается в конструктор).\n"
      ],
      "metadata": {
        "id": "V9i0cRCzCE7q"
      }
    },
    {
      "cell_type": "code",
      "source": [
        "class Pump:\n",
        "    def __init__(self, queue, value_generator):\n",
        "        self.queue = queue\n",
        "        self.value_generator = value_generator\n",
        "\n",
        "    def action(self):\n",
        "        try:\n",
        "            value = next(self.value_generator)\n",
        "            self.queue.append(value)\n",
        "        except StopIteration:\n",
        "            print(\"Value generator is empty.\")\n",
        "\n",
        "# Пример использования\n",
        "from collections import deque\n",
        "\n",
        "value_generator = iter([1, 2, 3, 4, 5])\n",
        "queue = deque()\n",
        "\n",
        "pump = Pump(queue, value_generator)\n",
        "pump.action()\n",
        "print(queue)\n",
        "\n",
        "pump.action()\n",
        "print(queue)\n",
        "\n",
        "pump.action()\n",
        "print(queue)\n",
        "\n",
        "pump.action()\n",
        "print(queue)\n",
        "\n",
        "pump.action()\n",
        "\n",
        "pump.action()\n",
        "print(queue)\n"
      ],
      "metadata": {
        "colab": {
          "base_uri": "https://localhost:8080/"
        },
        "id": "EuFupydeCMjT",
        "outputId": "d2cf288f-7b85-44f7-ca32-62760736960d"
      },
      "execution_count": 5,
      "outputs": [
        {
          "output_type": "stream",
          "name": "stdout",
          "text": [
            "deque([1])\n",
            "deque([1, 2])\n",
            "deque([1, 2, 3])\n",
            "deque([1, 2, 3, 4])\n",
            "Value generator is empty.\n",
            "deque([1, 2, 3, 4, 5])\n"
          ]
        }
      ]
    },
    {
      "cell_type": "markdown",
      "source": [
        "b) Класс MultiAction - при вызове метода action() n раз вызвает метод action() класса, переданного в конструкторе. Число n также определяется в конструкторе."
      ],
      "metadata": {
        "id": "BixTgLH4DAXI"
      }
    },
    {
      "cell_type": "code",
      "source": [
        "class MultiAction:\n",
        "    def __init__(self, action_class, n):\n",
        "        self.action_class = action_class\n",
        "        self.n = n\n",
        "\n",
        "    def action(self):\n",
        "        for _ in range(self.n):\n",
        "            self.action_class.action()\n",
        "\n",
        "# Пример использования\n",
        "class SomeClass:\n",
        "    @staticmethod\n",
        "    def action():\n",
        "        print(2+2)\n",
        "\n",
        "multi_action = MultiAction(SomeClass, 2)\n",
        "multi_action.action()"
      ],
      "metadata": {
        "colab": {
          "base_uri": "https://localhost:8080/"
        },
        "id": "MQba1EnIDgsz",
        "outputId": "422f107a-dc86-4313-8a05-c0256c25762c"
      },
      "execution_count": 9,
      "outputs": [
        {
          "output_type": "stream",
          "name": "stdout",
          "text": [
            "4\n",
            "4\n"
          ]
        }
      ]
    },
    {
      "cell_type": "markdown",
      "source": [
        "c) Класс MultiPump - в методе action() извлекает очередное значение из генератора и помещает значение в одну из очередей (очереди передается в конструкторе); очереди , в которые помещаются очередные значения, меняются по порядку.\n"
      ],
      "metadata": {
        "id": "EVAfAmtGF2L6"
      }
    },
    {
      "cell_type": "code",
      "source": [
        "from collections import deque\n",
        "\n",
        "class MultiPump:\n",
        "    def __init__(self, queues, value_generator):\n",
        "        self.queues = queues\n",
        "        self.value_generator = value_generator\n",
        "        self.current_queue_index = 0\n",
        "\n",
        "    def action(self):\n",
        "        try:\n",
        "            value = next(self.value_generator)\n",
        "            self.queues[self.current_queue_index].append(value)\n",
        "            self.current_queue_index = (self.current_queue_index + 1) % len(self.queues)\n",
        "        except StopIteration:\n",
        "            print(\"Value generator is empty.\")\n",
        "\n",
        "# Пример использования\n",
        "queues = [deque(), deque(), deque()]\n",
        "value_generator = iter([1, 2, 3, 4, 5, 6, 7])\n",
        "\n",
        "multi_pump = MultiPump(queues, value_generator)\n",
        "for _ in range(7):\n",
        "    multi_pump.action()\n",
        "\n",
        "print(queues[0])\n",
        "print(queues[1])\n",
        "print(queues[2])\n"
      ],
      "metadata": {
        "colab": {
          "base_uri": "https://localhost:8080/"
        },
        "id": "bNKz0YGtF7qG",
        "outputId": "6d6c67ff-e383-4157-9c3c-95f7219cfbc2"
      },
      "execution_count": 10,
      "outputs": [
        {
          "output_type": "stream",
          "name": "stdout",
          "text": [
            "deque([1, 4, 7])\n",
            "deque([2, 5])\n",
            "deque([3, 6])\n"
          ]
        }
      ]
    },
    {
      "cell_type": "markdown",
      "source": [
        "4)При помощи GenFromQ, Pump реализовать систему обработки сообщений. Сообщения создаются генератором сообщений возвращающим случайным образорм одно из сообщений. Сообщения из трех генераторов заканчиваются в три очереди при помощи классов Pump, далее при помощи GenFromQ и Pump объединяются в одну очередь и выводятся на экран (можно реализовать при помощи класса с action и вызываемого при помощи MultiPump)."
      ],
      "metadata": {
        "id": "noCtoMicwXOY"
      }
    },
    {
      "cell_type": "code",
      "source": [
        "import random\n",
        "from collections import deque #Импортируется модуль random и класс deque из модуля collections\n",
        "\n",
        "class GenFromQ: #Определяется класс GenFromQ, который содержит метод init (конструктор) и метод action\n",
        "    def __init__(self, queues):\n",
        "        self.queues = queues #сюда мы передаём наши очереди\n",
        "\n",
        "    def action(self, output_queue):\n",
        "        for queue in self.queues:\n",
        "            while queue:\n",
        "                output_queue.append(queue.popleft()) #основное действие класса, которое добавляет в итоговую очередь удаленный левый элемент неосновной очереди\n",
        "class Pump: # Определяется класс Pump, который содержит метод init (конструктор) и метод action\n",
        "    def __init__(self, queue):\n",
        "        self.queue = queue # сюда мы передаём очередь, с которой будем дальше работать\n",
        "\n",
        "    def action(self, gen): #основное действие класса, которое извлекает значение и добавляет его в очередь\n",
        "        try:\n",
        "            value = next(gen)\n",
        "            self.queue.append(value)\n",
        "        except StopIteration:\n",
        "            pass\n",
        "\n",
        "# создаём функцию message_generator, которая возвращает случайное сообщение из списка\n",
        "def message_generator():\n",
        "    messages = [\"Hi\", \"How are you?\", \"I'm glad to see you\"]\n",
        "    while True:\n",
        "        yield random.choice(messages)\n",
        "\n",
        "# создаём три очереди и итоговую очередь вывода, имеющие класс deque из модуля collections\n",
        "queue1 = deque()\n",
        "queue2 = deque()\n",
        "queue3 = deque()\n",
        "output_queue = deque()\n",
        "\n",
        "# Создаем экземпляры классов Pump для каждой очереди\n",
        "pump1 = Pump(queue1)\n",
        "pump2 = Pump(queue2)\n",
        "pump3 = Pump(queue3)\n",
        "\n",
        "# Создаем экземпляр класса GenFromQ для объединения сообщений из разных очередей\n",
        "gen_from_q = GenFromQ([queue1, queue2, queue3])\n",
        "\n",
        "# Создаем генератор сообщений\n",
        "gen = message_generator()\n",
        "\n",
        "# Используя метод action у каждого pump передается gen в качетсве параметра, чтобы загружалось одно случайное сообщене в очередь\n",
        "pump1.action(gen)\n",
        "pump2.action(gen)\n",
        "pump3.action(gen)\n",
        "\n",
        "# Вызываем метод action у gen_from_q, который извлекает сообщения из всех трех очередей и добавляет их в output_queue\n",
        "gen_from_q.action(output_queue)\n",
        "\n",
        "# В цикле печатаются все сообщения из итоговой очереди с помощью метода popleft, пока очередь не станет пустой\n",
        "while output_queue:\n",
        "    print(output_queue.popleft())"
      ],
      "metadata": {
        "colab": {
          "base_uri": "https://localhost:8080/"
        },
        "id": "iO9Pr0HvwA6z",
        "outputId": "847e0905-2ade-437c-f805-c5c266640ee6"
      },
      "execution_count": 11,
      "outputs": [
        {
          "output_type": "stream",
          "name": "stdout",
          "text": [
            "Hi\n",
            "I'm glad to see you\n",
            "How are you?\n"
          ]
        }
      ]
    }
  ]
}