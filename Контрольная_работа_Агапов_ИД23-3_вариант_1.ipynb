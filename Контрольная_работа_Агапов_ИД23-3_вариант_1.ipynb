{
 "cells": [
  {
   "cell_type": "markdown",
   "metadata": {},
   "source": [
    "### Контрольная работа № 1.\n",
    "### Вариант 2.\n",
    "#### Студент: Агапов Владислав, группа ИД23-3"
   ]
  },
  {
   "cell_type": "markdown",
   "metadata": {},
   "source": [
    "1. Напишите программу, которая выполняет добавление, удаление и вывод на экран элементов списка при помощи классов. \n",
    "\n",
    "Решение задачи\n",
    "\n",
    "1.\tСоздаем класс и с помощью конструктора инициализируем значения этого класса.\n",
    "2.\tСоздаем в данном классе методы для добавления, удаления и вывода на экран соответствующих значений.\n",
    "3.\tСоздаем объект данного класса.\n",
    "4.\tИспользуя созданный объект, вызываем соответствующий метод (в зависимости от выбора пользователя).\n",
    "5.\tВыводим результат на экран.\n",
    "6.\tКонец.\n",
    "\n",
    "В программе реализовать выбор с помощью меню:\n",
    "\n",
    "print(\"0. Выход\")\n",
    "\n",
    "print(\"1. Добавить\")\n",
    "\n",
    "print(\"2. Удалить\")\n",
    "\n",
    "print(\"3. Вывести на экран\")\n",
    "\n",
    "choice = int(input(\"Выберите одно из этих значений: \"))\n",
    "\n"
   ]
  },
  {
   "cell_type": "code",
   "execution_count": 2,
   "metadata": {},
   "outputs": [
    {
     "name": "stdout",
     "output_type": "stream",
     "text": [
      "0. Выход\n",
      "1. Добавить\n",
      "2. Удалить\n",
      "3. Вывести на экран\n",
      "Выберите одно из этих значений: 1\n",
      "Введите элемент для добавления: 1\n",
      "0. Выход\n",
      "1. Добавить\n",
      "2. Удалить\n",
      "3. Вывести на экран\n",
      "Выберите одно из этих значений: 1\n",
      "Введите элемент для добавления: 14313\n",
      "0. Выход\n",
      "1. Добавить\n",
      "2. Удалить\n",
      "3. Вывести на экран\n",
      "Выберите одно из этих значений: 1\n",
      "Введите элемент для добавления: 133323\n",
      "0. Выход\n",
      "1. Добавить\n",
      "2. Удалить\n",
      "3. Вывести на экран\n",
      "Выберите одно из этих значений: 1\n",
      "Введите элемент для добавления: 12\n",
      "0. Выход\n",
      "1. Добавить\n",
      "2. Удалить\n",
      "3. Вывести на экран\n",
      "Выберите одно из этих значений: 3\n",
      "Элементы списка:\n",
      "1\n",
      "14313\n",
      "133323\n",
      "12\n",
      "0. Выход\n",
      "1. Добавить\n",
      "2. Удалить\n",
      "3. Вывести на экран\n",
      "Выберите одно из этих значений: 0\n"
     ]
    }
   ],
   "source": [
    "# Решение 1.\n",
    "class ListManager:\n",
    "    def __init__(self):\n",
    "        self.my_list = []\n",
    "\n",
    "    def add_element(self, element):\n",
    "        self.my_list.append(element)\n",
    "\n",
    "    def remove_element(self, element):\n",
    "        if element in self.my_list:\n",
    "            self.my_list.remove(element)\n",
    "        else:\n",
    "            print(\"Элемент не найден\")\n",
    "\n",
    "    def display_elements(self):\n",
    "        print(\"Элементы списка:\")\n",
    "        for element in self.my_list:\n",
    "            print(element)\n",
    "\n",
    "\n",
    "manager = ListManager()\n",
    "\n",
    "while True:\n",
    "    print(\"0. Выход\")\n",
    "    print(\"1. Добавить\")\n",
    "    print(\"2. Удалить\")\n",
    "    print(\"3. Вывести на экран\")\n",
    "\n",
    "    choice = int(input(\"Выберите одно из этих значений: \"))\n",
    "\n",
    "    if choice == 0:\n",
    "        break\n",
    "    elif choice == 1:\n",
    "        element = input(\"Введите элемент для добавления: \")\n",
    "        manager.add_element(element)\n",
    "    elif choice == 2:\n",
    "        element = input(\"Введите элемент для удаления: \")\n",
    "        manager.remove_element(element)\n",
    "    elif choice == 3:\n",
    "        manager.display_elements()\n",
    "    else:\n",
    "        print(\"Неверный выбор\")"
   ]
  },
  {
   "cell_type": "markdown",
   "metadata": {},
   "source": [
    "2. Используя класс People в качестве базового, создайте класс Сотрудник (Worker), имеющий свойства:\n",
    "\n",
    "• должность (post)\n",
    "\n",
    "• зарплата (salary)\n",
    "\n",
    "методы:\n",
    "\n",
    "• __init__ – конструктор;\n",
    "\n",
    "• __str__ – аналогично методу класса Teacher из примера.\n",
    "\n",
    "Используя класс Сотрудник в качестве базового создайте класс Преподаватель (Teacher), имеющий:\n",
    "\n",
    "• закрытый атрибут дисциплины (disciplines), в котором хранятся названия дисциплин, которые ведет преподаватель;\n",
    "\n",
    "• методы __init__ и __str__;\n",
    "\n",
    "• методы добавить_дисциплину (add_dis) и удалить_дисциплину (delete_dis), которые позволяют изменять список дисциплин.\n",
    "\n",
    "Создайте список, содержащий по 2 объекта каждого класса (People, Worker, Teacher). Для этого списка:\n",
    "\n",
    "• выведите информацию о каждом человеке с помощью метода info;\n",
    "\n",
    "• выведите фамилии тех, кто моложе 30 лет;\n",
    "\n",
    "• продемонстрируйте работу со свойствами должность и зарплата и методами добавить_дисциплину и удалить_дисциплину.\n"
   ]
  },
  {
   "cell_type": "code",
   "execution_count": 32,
   "metadata": {},
   "outputs": [
    {
     "name": "stdout",
     "output_type": "stream",
     "text": [
      "Имя: Иванов, Возраст: 25\n",
      "Имя: Петров, Возраст: 35\n",
      "Имя: Сидоров, Возраст: 28\n",
      "Имя: Козлов, Возраст: 32\n",
      "Имя: Смирнова, Возраст: 29\n",
      "Имя: Николаев, Возраст: 40\n",
      "тех, кто моложе 30 лет:\n",
      "Иванов\n",
      "Сидоров\n",
      "Смирнова\n",
      "изменения 1:\n",
      "Имя: Смирнова, Возраст: 29, Должность: Преподаватель, Зарплата: 35000, Дисциплины: Математика, Физика\n",
      "изменения 2:\n",
      "Имя: Смирнова, Возраст: 29, Должность: Преподаватель, Зарплата: 35000, Дисциплины: Математика, Химия\n"
     ]
    }
   ],
   "source": [
    "class People:\n",
    "    def __init__(self, name, age):\n",
    "        self.name = name\n",
    "        self.age = age\n",
    "\n",
    "    def info(self):\n",
    "        return f\"Имя: {self.name}, Возраст: {self.age}\"\n",
    "\n",
    "class Worker(People):\n",
    "    def __init__(self, name, age, post, salary):\n",
    "        super().__init__(name, age)\n",
    "        self.post = post\n",
    "        self.salary = salary\n",
    "\n",
    "    def __str__(self):\n",
    "        return f\"Имя: {self.name}, Возраст: {self.age}, Должность: {self.post}, Зарплата: {self.salary}\"\n",
    "\n",
    "class Teacher(Worker):\n",
    "    def __init__(self, name, age, post, salary):\n",
    "        super().__init__(name, age, post, salary)\n",
    "        self.__disciplines = []\n",
    "\n",
    "    def add_discipline(self, discipline):\n",
    "        self.__disciplines.append(discipline)\n",
    "\n",
    "    def delete_discipline(self, discipline):\n",
    "        if discipline in self.__disciplines:\n",
    "            self.__disciplines.remove(discipline)\n",
    "\n",
    "    def __str__(self):\n",
    "        return f\"Имя: {self.name}, Возраст: {self.age}, Должность: {self.post}, Зарплата: {self.salary}, Дисциплины: {', '.join(self.__disciplines)}\"\n",
    "\n",
    "people1 = People(\"Иванов\", 25)\n",
    "people2 = People(\"Петров\", 35)\n",
    "worker1 = Worker(\"Сидоров\", 28, \"Менеджер\", 30000)\n",
    "worker2 = Worker(\"Козлов\", 32, \"Аналитик\", 40000)\n",
    "teacher1 = Teacher(\"Смирнова\", 29, \"Преподаватель\", 35000)\n",
    "teacher2 = Teacher(\"Николаев\", 40, \"Профессор\", 50000)\n",
    "\n",
    "teacher1.add_discipline(\"Математика\")\n",
    "teacher1.add_discipline(\"Физика\")\n",
    "teacher2.add_discipline(\"История\")\n",
    "teacher2.add_discipline(\"Литература\")\n",
    "\n",
    "for person in [people1, people2, worker1, worker2, teacher1, teacher2]:\n",
    "    print(person.info())\n",
    "\n",
    "print(\"тех, кто моложе 30 лет:\")\n",
    "for person in [people1, worker1, teacher1]:\n",
    "    if person.age < 30:\n",
    "        print(person.name)\n",
    "\n",
    "\n",
    "print(\"изменения 1:\")\n",
    "print(teacher1)\n",
    "teacher1.add_discipline(\"Химия\")\n",
    "teacher1.delete_discipline(\"Физика\")\n",
    "print(\"изменения 2:\")\n",
    "print(teacher1)"
   ]
  },
  {
   "cell_type": "markdown",
   "metadata": {},
   "source": [
    "3.Создайте класс Заказ(Order), у которого есть свойства кодтовара(code), цена(price), количество(count) и методы _init и str.\n",
    "\n",
    "Создайте 2 класса-потомка: Опт(Opt) и Розница(Retail). В этих классах создайте методы init, str.и сумма_заказа(summa), позволяющий узнать стоимость заказа. Для опта стоимость единицы товара составляет 95% от цены, а при покупке более 500 штук – 90% цены. В розницу стоимость единицы товара составляет 100% цены. Стоимость заказа равна произведению цены на количество.\n",
    "\n",
    "Продемонстрируйте работу с классами, создав необходимые объекты и обратившись к их свойствам и методам"
   ]
  },
  {
   "cell_type": "code",
   "execution_count": 28,
   "metadata": {},
   "outputs": [
    {
     "name": "stdout",
     "output_type": "stream",
     "text": [
      "Код товара: A001, Цена за единицу в опте: 95.0, Стоимость заказа: 28500.0\n",
      "Код товара: B002, Цена за единицу в розницу: 50, Стоимость заказа: 35000\n",
      "Стоимость заказа в опте: 28500.0\n",
      "Стоимость заказа в розницу: 35000\n"
     ]
    }
   ],
   "source": [
    "# Решение 3.\n",
    "class Order:\n",
    "    def __init__(self, code, price, count):\n",
    "        self.code = code\n",
    "        self.price = price\n",
    "        self.count = count \n",
    "    \n",
    "    def __str__(self):\n",
    "        return f\"Код товара: {self.code}, цена: {self.price}, количество: {self.count}\"\n",
    "\n",
    "class Opt(Order):\n",
    "    def __init__(self, code, price, count):\n",
    "        super().__init__(code, price, count)\n",
    "\n",
    "    def summa(self):\n",
    "        if self.count > 500:\n",
    "            return 0.9 * self.price * self.count\n",
    "        else:\n",
    "            return 0.95 * self.price * self.count\n",
    "\n",
    "    def __str__(self):\n",
    "        return f\"Код товара: {self.code}, Цена за единицу в опте: {0.95 * self.price}, Стоимость заказа: {self.summa()}\"\n",
    "\n",
    "class Retail(Order):\n",
    "    def __init__(self, code, price, count):\n",
    "        super().__init__(code, price, count)\n",
    "\n",
    "    def summa(self):\n",
    "        return self.price * self.count\n",
    "\n",
    "    def __str__(self):\n",
    "        return f\"Код товара: {self.code}, Цена за единицу в розницу: {self.price}, Стоимость заказа: {self.summa()}\"\n",
    "\n",
    "order1 = Opt(\"A001\", 100, 300)\n",
    "order2 = Retail(\"B002\", 50, 700)\n",
    "\n",
    "print(order1)\n",
    "print(order2)\n",
    "\n",
    "print(f\"Стоимость заказа в опте: {order1.summa()}\")\n",
    "print(f\"Стоимость заказа в розницу: {order2.summa()}\")"
   ]
  },
  {
   "cell_type": "markdown",
   "metadata": {},
   "source": [
    "4.Написать функцию-генератор my_func_2(lst), которая принимает объект, поддерживающий итерации с произвольным уровнем вложенности, и возвращает все элементы по одному."
   ]
  },
  {
   "cell_type": "code",
   "execution_count": 31,
   "metadata": {},
   "outputs": [
    {
     "name": "stdout",
     "output_type": "stream",
     "text": [
      "1\n",
      "2\n",
      "3\n",
      "4\n",
      "5\n",
      "6\n",
      "7\n"
     ]
    }
   ],
   "source": [
    "# Решение 4.\n",
    "def my_func_2(lst):\n",
    "    if isinstance(lst, dict):\n",
    "        for key in lst:\n",
    "            yield key\n",
    "            yield from my_func_2(lst[key])\n",
    "    elif isinstance(lst, (list, tuple, set)):\n",
    "        for item in lst:\n",
    "            yield from my_func_2(item)\n",
    "    else:\n",
    "        yield lst\n",
    "\n",
    "nested_list = [1, [2, 3], [[4, 5], 6], 7]\n",
    "for item in my_func_2(nested_list):\n",
    "    print(item)"
   ]
  },
  {
   "cell_type": "markdown",
   "metadata": {},
   "source": [
    "5.С помощью механизма map/filter/reduce (хотя бы одна из этих функций должна быть использована в решении) посчитать в тексте количество слов, состоящих не менее, чем из 3-х букв. Слова в тексте разделены пробелами. Написать реализацию в одну строку. Оформить решение в виде функции my_func_3(text), т.е. шаблон таков:\n",
    "\n",
    "строка с import, если необходимо def my_func_3(text): return # однострочная реализация задания"
   ]
  },
  {
   "cell_type": "code",
   "execution_count": 37,
   "metadata": {},
   "outputs": [
    {
     "data": {
      "text/plain": [
       "4"
      ]
     },
     "execution_count": 37,
     "metadata": {},
     "output_type": "execute_result"
    }
   ],
   "source": [
    "# Решение 5.\n",
    "def my_func_3(text): return len(list(filter(lambda word: len(word) >= 3, text.split())))\n",
    "text = \"Hi my dear how are you?\"\n",
    "my_func_3(text)"
   ]
  }
 ],
 "metadata": {
  "kernelspec": {
   "display_name": "Python 3 (ipykernel)",
   "language": "python",
   "name": "python3"
  },
  "language_info": {
   "codemirror_mode": {
    "name": "ipython",
    "version": 3
   },
   "file_extension": ".py",
   "mimetype": "text/x-python",
   "name": "python",
   "nbconvert_exporter": "python",
   "pygments_lexer": "ipython3",
   "version": "3.11.5"
  }
 },
 "nbformat": 4,
 "nbformat_minor": 4
}
