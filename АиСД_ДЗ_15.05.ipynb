{
 "cells": [
  {
   "cell_type": "markdown",
   "id": "91d9a035",
   "metadata": {},
   "source": [
    "35.1) Создайте двусвязный список для хранения и управления информацией о студентах в университете. Каждый элемент списка должен содержать имя, фамилию, номер студенческого билета и список курсов, на которые студент записан."
   ]
  },
  {
   "cell_type": "code",
   "execution_count": 1,
   "id": "d00367d2",
   "metadata": {},
   "outputs": [
    {
     "name": "stdout",
     "output_type": "stream",
     "text": [
      "Список студентов:\n",
      "Student: John Doe, ID: 12345, Courses: ['Math', 'Science']\n",
      "Student: Jane Smith, ID: 23456, Courses: ['History', 'English']\n",
      "Student: Michael Jones, ID: 34567, Courses: ['Computer Science', 'Business']\n",
      "\n",
      "Список студентов после удаления:\n",
      "Student: John Doe, ID: 12345, Courses: ['Math', 'Science']\n",
      "Student: Michael Jones, ID: 34567, Courses: ['Computer Science', 'Business']\n",
      "\n",
      "Студент с ID 12345:\n",
      "Имя: John Doe\n",
      "Курсы: ['Math', 'Science']\n"
     ]
    }
   ],
   "source": [
    "class Student: #создаём класс Студент и иницилизируем основную информацию\n",
    "    def __init__(self, first_name, last_name, student_id, courses=[]):\n",
    "        self.first_name = first_name\n",
    "        self.last_name = last_name\n",
    "        self.student_id = student_id\n",
    "        self.courses = courses\n",
    "        self.next = None\n",
    "        self.prev = None\n",
    "\n",
    "class DoublyLinkedList: #создаём класс Двусвязный список\n",
    "    def __init__(self):\n",
    "        self.head = None\n",
    "        self.tail = None\n",
    "\n",
    "    def add_student(self, first_name, last_name, student_id, courses=[]): #функция добавления студента в двусвязный список\n",
    "        new_student = Student(first_name, last_name, student_id, courses)\n",
    "        if self.head is None:\n",
    "            self.head = new_student\n",
    "            self.tail = new_student\n",
    "        else:\n",
    "            new_student.prev = self.tail\n",
    "            self.tail.next = new_student\n",
    "            self.tail = new_student\n",
    "\n",
    "    def remove_student(self, student_id): #функция удаления студента из двусвязного списка\n",
    "        current = self.head\n",
    "        while current is not None:\n",
    "            if current.student_id == student_id:\n",
    "                if current == self.head:\n",
    "                    self.head = current.next\n",
    "                elif current == self.tail:\n",
    "                    self.tail = current.prev\n",
    "                else:\n",
    "                    current.prev.next = current.next\n",
    "                    current.next.prev = current.prev\n",
    "                return\n",
    "            current = current.next\n",
    "\n",
    "    def get_student_by_id(self, student_id): #функция нахождения студента по id\n",
    "        current = self.head\n",
    "        while current is not None:\n",
    "            if current.student_id == student_id:\n",
    "                return current\n",
    "            current = current.next\n",
    "        return None\n",
    "\n",
    "    def print_list(self): #функция, которая выводит информацию о студентах\n",
    "        current = self.head\n",
    "        while current is not None:\n",
    "            print(f\"Student: {current.first_name} {current.last_name}, ID: {current.student_id}, Courses: {current.courses}\")\n",
    "            current = current.next\n",
    "\n",
    "student_list = DoublyLinkedList()\n",
    "student_list.add_student(\"John\", \"Doe\", 12345, [\"Math\", \"Science\"])\n",
    "student_list.add_student(\"Jane\", \"Smith\", 23456, [\"History\", \"English\"])\n",
    "student_list.add_student(\"Michael\", \"Jones\", 34567, [\"Computer Science\", \"Business\"])\n",
    "\n",
    "print(\"Список студентов:\")\n",
    "student_list.print_list()\n",
    "\n",
    "student_list.remove_student(23456)\n",
    "\n",
    "print(\"\\nСписок студентов после удаления:\")\n",
    "student_list.print_list()\n",
    "\n",
    "student = student_list.get_student_by_id(12345)\n",
    "print(\"\\nСтудент с ID 12345:\")\n",
    "print(f\"Имя: {student.first_name} {student.last_name}\")\n",
    "print(f\"Курсы: {student.courses}\")"
   ]
  },
  {
   "cell_type": "markdown",
   "id": "562ff982",
   "metadata": {},
   "source": [
    "36.1) Реализовать функцию, которая переворачивает двусвязный список."
   ]
  },
  {
   "cell_type": "code",
   "execution_count": 14,
   "id": "2742a20d",
   "metadata": {},
   "outputs": [
    {
     "name": "stdout",
     "output_type": "stream",
     "text": [
      "Исходный двусвязный список:\n",
      "1 2 3 \n",
      "Перевернутый двусвязный список:\n",
      "3 2 1 \n"
     ]
    }
   ],
   "source": [
    "class Node:\n",
    "    def __init__(self, data):\n",
    "        self.data = data\n",
    "        self.prev = None\n",
    "        self.next = None\n",
    "\n",
    "# Функция, которая переворачивает двусвязный список\n",
    "def reverse_doubly_linked_list(head):\n",
    "    current = head\n",
    "    while current:\n",
    "        temp = current.prev\n",
    "        current.prev = current.next\n",
    "        current.next = temp\n",
    "        head = current\n",
    "        current = current.prev\n",
    "    return head\n",
    "\n",
    "# Функция для печати двусвязного списка\n",
    "def print_doubly_linked_list(head):\n",
    "    current = head\n",
    "    while current:\n",
    "        print(current.data, end=\" \")\n",
    "        current = current.next\n",
    "    print()\n",
    "\n",
    "# Создание примера двусвязного списка\n",
    "node1 = Node(1)\n",
    "node2 = Node(2)\n",
    "node3 = Node(3)\n",
    "\n",
    "node1.next = node2\n",
    "node2.prev = node1\n",
    "node2.next = node3\n",
    "node3.prev = node2\n",
    "\n",
    "print(\"Исходный двусвязный список:\")\n",
    "print_doubly_linked_list(node1)\n",
    "\n",
    "reversed_head = reverse_doubly_linked_list(node1)\n",
    "\n",
    "print(\"Перевернутый двусвязный список:\")\n",
    "print_doubly_linked_list(reversed_head)\n",
    "\n"
   ]
  },
  {
   "cell_type": "markdown",
   "id": "3c9c7e22",
   "metadata": {},
   "source": [
    "37.1)Реализовать функцию, которая находит индекс первого вхождения заданного элемента в циклический двусвязный список."
   ]
  },
  {
   "cell_type": "code",
   "execution_count": 7,
   "id": "374775a7",
   "metadata": {},
   "outputs": [
    {
     "name": "stdout",
     "output_type": "stream",
     "text": [
      "Студент с ID 23456 найден на индексе 1\n"
     ]
    }
   ],
   "source": [
    "def find_index_in_circular_doubly_linked_list(head, target):\n",
    "    current = head\n",
    "    index = 0\n",
    "\n",
    "    while True:\n",
    "        if current.student_id == target:\n",
    "            return index\n",
    "\n",
    "        current = current.next\n",
    "        index += 1\n",
    "\n",
    "        if current == head:\n",
    "            return -1  # Элемент не найден\n",
    "        \n",
    "# Создание циклического двусвязного списка\n",
    "student_list = DoublyLinkedList()\n",
    "student_list.add_student(\"John\", \"Doe\", 12345, [\"Math\", \"Science\"])\n",
    "student_list.add_student(\"Jane\", \"Smith\", 23456, [\"History\", \"English\"])\n",
    "student_list.add_student(\"Michael\", \"Jones\", 34567, [\"Computer Science\", \"Business\"])\n",
    "\n",
    "# Замыкание списка в цикл\n",
    "student_list.tail.next = student_list.head\n",
    "student_list.head.prev = student_list.tail\n",
    "\n",
    "# Поиск индекса первого вхождения студента с ID 23456\n",
    "index = find_index_in_circular_doubly_linked_list(student_list.head, 23456)\n",
    "\n",
    "if index != -1:\n",
    "    print(f\"Студент с ID 23456 найден на индексе {index}\")\n",
    "else:\n",
    "    print(\"Студент с ID 23456 не найден\")"
   ]
  },
  {
   "cell_type": "markdown",
   "id": "8924bb83",
   "metadata": {},
   "source": [
    "Используя модуль array и библиотеку numpy, решить следующие задачи:\n",
    "а) Дан массив размера  N . Найти количество участков, на которых его элементы возрастают.\n",
    "б) Дана квадратная матрица  A  порядка  M . Найти сумму элементов каждой ее диагонали, параллельной главной (начиная с одноэлементной диагонали  A1,M )."
   ]
  },
  {
   "cell_type": "code",
   "execution_count": 10,
   "id": "974610ee",
   "metadata": {},
   "outputs": [
    {
     "name": "stdout",
     "output_type": "stream",
     "text": [
      "Количество участков, на которых элементы возрастают: 6\n"
     ]
    }
   ],
   "source": [
    "#a)\n",
    "import array\n",
    "import numpy as np\n",
    "\n",
    "# Создаем массив размера N\n",
    "arr = array.array('i', [1, 3, 5, 2, 4, 6, 8, 7, 9])\n",
    "\n",
    "# Находим количество участков, на которых элементы возрастают\n",
    "count = 0\n",
    "for i in range(1, len(arr)):\n",
    "    if arr[i] > arr[i - 1]:\n",
    "        count += 1\n",
    "\n",
    "print(\"Количество участков, на которых элементы возрастают:\", count)"
   ]
  },
  {
   "cell_type": "code",
   "execution_count": 9,
   "id": "24613fec",
   "metadata": {},
   "outputs": [
    {
     "name": "stdout",
     "output_type": "stream",
     "text": [
      "Сумма элементов 1-й диагонали: 18\n",
      "Сумма элементов 2-й диагонали: 24\n",
      "Сумма элементов 3-й диагонали: 8\n",
      "Сумма элементов 4-й диагонали: 16\n",
      "Сумма элементов 5-й диагонали: 7\n"
     ]
    }
   ],
   "source": [
    "import numpy as np\n",
    "\n",
    "# Создаем квадратную матрицу порядка M\n",
    "M = 5\n",
    "A = np.random.randint(1, 10, (M, M))\n",
    "\n",
    "# Находим сумму элементов каждой диагонали, параллельной главной\n",
    "for i in range(M):\n",
    "    diagonal_sum = 0\n",
    "    for j in range(M - i):\n",
    "        diagonal_sum += A[i + j, j]\n",
    "    print(f\"Сумма элементов {i + 1}-й диагонали: {diagonal_sum}\")\n"
   ]
  }
 ],
 "metadata": {
  "kernelspec": {
   "display_name": "Python 3 (ipykernel)",
   "language": "python",
   "name": "python3"
  },
  "language_info": {
   "codemirror_mode": {
    "name": "ipython",
    "version": 3
   },
   "file_extension": ".py",
   "mimetype": "text/x-python",
   "name": "python",
   "nbconvert_exporter": "python",
   "pygments_lexer": "ipython3",
   "version": "3.11.5"
  }
 },
 "nbformat": 4,
 "nbformat_minor": 5
}
