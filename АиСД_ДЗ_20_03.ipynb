{
 "cells": [
  {
   "cell_type": "markdown",
   "id": "df7a2e33",
   "metadata": {},
   "source": [
    "25.1) Класс – комплексное число. Методы – сумма, разность, произведение комплексных чисел. Поля – действительная и мнимая часть комплексного числа."
   ]
  },
  {
   "cell_type": "code",
   "execution_count": 15,
   "id": "cae87ab9",
   "metadata": {},
   "outputs": [
    {
     "name": "stdout",
     "output_type": "stream",
     "text": [
      "num1 = 2 + 3i\n",
      "num2 = 1 + 2i\n",
      "Сумма: 3 + 5i\n",
      "Разность: 1 + 1i\n",
      "Произведение: -4 + 7i\n"
     ]
    }
   ],
   "source": [
    "class ComplexNumber: #Cоздаётся класс ComplexNumber\n",
    "    \n",
    "    #Метод init () создает класс объекта, принимая входные параметры, действительные и мнимые, и сохраняя\n",
    "    #их как атрибуты self.real и self.imaginary соответственно\n",
    "    def __init__(self, real, imaginary): \n",
    "        self.real = real\n",
    "        self.imaginary = imaginary\n",
    "\n",
    "    #Метод str () определяет строковое представление объекта класса. \n",
    "    #Если принять часть большую или равную 0, верните преобразование форматирования \"действительное + мнимое\", \n",
    "    #иначе используйте преобразование форматирования \"действительное - -мнимое\"\n",
    "    def __str__(self):\n",
    "        if self.imaginary >= 0:\n",
    "            return f\"{self.real} + {self.imaginary}i\"\n",
    "        else:\n",
    "            return f\"{self.real} - {-self.imaginary}i\"\n",
    "\n",
    "    #Метод add() принимает другой объект ComplexNumber в качестве аргумента и возвращает новый объект ComplexNumber, \n",
    "    #результат сложения действительных и минимальных частей текущего объекта и переданного объекта\n",
    "    def add(self, other):\n",
    "        return ComplexNumber(self.real + other.real, self.imaginary + other.imaginary)\n",
    "\n",
    "    #Метод subtract() принимает другой объект ComplexNumber в качестве аргумента и возвращает новый объект ComplexNumber, \n",
    "    #результат разности реальных и минимальных частей текущего объекта и переданного объекта\n",
    "    def subtract(self, other):\n",
    "        return ComplexNumber(self.real - other.real, self.imaginary - other.imaginary)\n",
    "\n",
    "    #Метод умножения() принимает другой объект ComplexNumber в качестве аргумента и возвращает новый объект ComplexNumber, \n",
    "    #результат умножения двух комплексных чисел по формуле умножения комплексных чисел\n",
    "    def multiply(self, other):\n",
    "        real_part = self.real * other.real - self.imaginary * other.imaginary\n",
    "        imaginary_part = self.real * other.imaginary + self.imaginary * other.real\n",
    "        return ComplexNumber(real_part, imaginary_part)\n",
    "\n",
    "\n",
    "# Пример использования\n",
    "num1 = ComplexNumber(2, 3)\n",
    "num2 = ComplexNumber(1, 2)\n",
    "\n",
    "print(\"num1 =\", num1)\n",
    "print(\"num2 =\", num2)\n",
    "\n",
    "sum_result = num1.add(num2)\n",
    "print(\"Сумма:\", sum_result)\n",
    "\n",
    "diff_result = num1.subtract(num2)\n",
    "print(\"Разность:\", diff_result)\n",
    "\n",
    "prod_result = num1.multiply(num2)\n",
    "print(\"Произведение:\", prod_result)"
   ]
  },
  {
   "cell_type": "markdown",
   "id": "ca3eb95d",
   "metadata": {},
   "source": [
    "26.2) Опишите класс Point. Для точки задаются декартовы координаты  x ,  y . Включите в описание класса методы, позволяющие вывести координаты точки на экран, рассчитать расстояние от начала координат до точки, переместить точку на плоскости на вектор  (a,b)  и свойство, позволяющее умножить координаты точки на скаляр."
   ]
  },
  {
   "cell_type": "code",
   "execution_count": 14,
   "id": "24a92f4f",
   "metadata": {},
   "outputs": [
    {
     "name": "stdout",
     "output_type": "stream",
     "text": [
      "Координаты точки: (3, 4)\n",
      "Расстояние от начала координат до точки: 5.0\n",
      "Новые координаты после перемещения: (4, 6)\n",
      "Умноженные координаты на скаляр: (8, 12)\n"
     ]
    }
   ],
   "source": [
    "import math #Импортируется модуль math\n",
    "\n",
    "class Point: #Определение класса Point, в конструкторе класса ( init ) создаются координаты точек x и y\n",
    "    def __init__(self, x, y):\n",
    "        self.x = x\n",
    "        self.y = y\n",
    "\n",
    "    def __str__(self): #Метод str возвращает строковое представление точек в виде (x, y)\n",
    "        return f\"({self.x}, {self.y})\"\n",
    "\n",
    "    def distance_from_origin(self): #Метод distance_from_origin вычисляет расстояние от точек до начальной координаты\n",
    "        return math.sqrt(self.x**2 + self.y**2)\n",
    "\n",
    "    def move(self, a, b): #Метод move позволяет переместить точку на заданное перемещение (по оси x на a, по оси y на b)\n",
    "        self.x += a\n",
    "        self.y += b\n",
    "\n",
    "    def multiply_by_scalar(self, scalar): #Метод multiply_by_scalar умножает координаты точек на скаляр\n",
    "        return Point(self.x * scalar, self.y * scalar)\n",
    "\n",
    "point = Point(3, 4)\n",
    "print(\"Координаты точки:\", point)\n",
    "print(\"Расстояние от начала координат до точки:\", point.distance_from_origin())\n",
    "\n",
    "point.move(1, 2)\n",
    "print(\"Новые координаты после перемещения:\", point)\n",
    "\n",
    "scaled_point = point.multiply_by_scalar(2)\n",
    "print(\"Умноженные координаты на скаляр:\", scaled_point)"
   ]
  },
  {
   "cell_type": "markdown",
   "id": "87777fd4",
   "metadata": {},
   "source": [
    "27.1) Создайте класс ФИГУРА с методами вычисления площади и периметра, а также методом, выводящим информацию о фигуре на экран. Создайте дочерние классы ПРЯМОУГОЛЬНИК, КРУГ, ТРЕУГОЛЬНИК со своими методами вычисления площади и периметра. Создайте список  n  фигур и выведите полную информацию о фигурах на экран."
   ]
  },
  {
   "cell_type": "code",
   "execution_count": 13,
   "id": "9e32d5ed",
   "metadata": {},
   "outputs": [
    {
     "name": "stdout",
     "output_type": "stream",
     "text": [
      "Прямоугольник: Ширина = 5 , Высота = 10 , Площадь = 50 , Периметр = 30\n",
      "Круг: Радиус = 3 , Площадь = 28.274333882308138 , Периметр = 18.84955592153876\n",
      "Треугольник: Сторона 1 = 3 , Сторона 2 = 4 , Сторона 3 = 5 , Площадь = 6.0 , Периметр = 12\n"
     ]
    }
   ],
   "source": [
    "import math #Импортируется модуль math\n",
    "\n",
    "class Figure:\n",
    "    def __init__(self):\n",
    "        pass\n",
    "    \n",
    "    def calculate_area(self):\n",
    "        pass\n",
    "    \n",
    "    def calculate_perimeter(self):\n",
    "        pass\n",
    "    \n",
    "    def display_info(self):\n",
    "        pass\n",
    "\n",
    "class Rectangle(Figure):\n",
    "    def __init__(self, width, height):\n",
    "        self.width = width\n",
    "        self.height = height\n",
    "    \n",
    "    def calculate_area(self):\n",
    "        return self.width * self.height\n",
    "    \n",
    "    def calculate_perimeter(self):\n",
    "        return 2 * (self.width + self.height)\n",
    "    \n",
    "    def display_info(self):\n",
    "        print(\"Прямоугольник: Ширина =\", self.width, \", Высота =\", self.height, \", Площадь =\", self.calculate_area(), \", Периметр =\", self.calculate_perimeter())\n",
    "\n",
    "class Circle(Figure):\n",
    "    def __init__(self, radius):\n",
    "        self.radius = radius\n",
    "    \n",
    "    def calculate_area(self):\n",
    "        return math.pi * self.radius ** 2\n",
    "    \n",
    "    def calculate_perimeter(self):\n",
    "        return 2 * math.pi * self.radius\n",
    "    \n",
    "    def display_info(self):\n",
    "        print(\"Круг: Радиус =\", self.radius, \", Площадь =\", self.calculate_area(), \", Периметр =\", self.calculate_perimeter())\n",
    "\n",
    "class Triangle(Figure):\n",
    "    def __init__(self, side1, side2, side3):\n",
    "        self.side1 = side1\n",
    "        self.side2 = side2\n",
    "        self.side3 = side3\n",
    "    \n",
    "    def calculate_area(self):\n",
    "        s = (self.side1 + self.side2 + self.side3) / 2\n",
    "        return math.sqrt(s * (s - self.side1) * (s - self.side2) * (s - self.side3))\n",
    "    \n",
    "    def calculate_perimeter(self):\n",
    "        return self.side1 + self.side2 + self.side3\n",
    "    \n",
    "    def display_info(self):\n",
    "        print(\"Треугольник: Сторона 1 =\", self.side1, \", Сторона 2 =\", self.side2, \", Сторона 3 =\", self.side3, \", Площадь =\", self.calculate_area(), \", Периметр =\", self.calculate_perimeter())\n",
    "\n",
    "# Создание списка фигур\n",
    "figures = [Rectangle(5, 10), Circle(3), Triangle(3, 4, 5)]\n",
    "\n",
    "# Вывод информации о фигурах\n",
    "for fig in figures:\n",
    "    fig.display_info()"
   ]
  },
  {
   "cell_type": "code",
   "execution_count": null,
   "id": "83e099f4",
   "metadata": {},
   "outputs": [],
   "source": [
    "Импортируется модуль math.\n",
    "Создается класс Рисунок с методами init , Calcul_area, Calculate_perimeter и display_info. В методах Calculation_area, Calculate_perimeter и display_info используется метод pass, который позволяет пропустить их реализацию.\n",
    "Создается класс Прямоугольник, который наследует класс Фигура. В классе Rectangle есть методы init , Calcul_area, Calculate_perimeter и display_info. В методе init задаются значения положения и высоты. Методы вычисления_площади и вычисления_периметра возвращают площадь и периметр соответствующей площади. Метод display_info выводит информацию о прямоугольнике (ширина, высота, площадь, периметр).\n",
    "Создается класс Круг, который наследует класс Фигура. В классе Circle есть методы init , Calcul_area, Calculate_perimeter и display_info. В методе init задается значение радиуса. Методы вычисления_площади и вычисления_периметра возвращают площадь и периметр круга соответственно. Метод display_info выводит информацию о круге (радиус, площадь, периметр).\n",
    "Создается класс Треугольник, который наследует класс Фигура. В классе Triangle есть методы init , Calcul_area, Calculate_perimeter и display_info. В методе init указаны значения стороны треугольника. Метод Calcult_area вычисляет площадь треугольника по формуле Герона. Методcult_perimeter возвращает периметр треугольника. Метод display_info выводит информацию о треугольнике (стороны, площадь, периметр).\n",
    "Создается список фигур, который содержит экземпляры классов Прямоугольник, Круг, Треугольник.\n",
    "В цикле проходим по списку фигур и вызываем у каждой фигуры метод display_info для получения информации о каждой фигуре."
   ]
  },
  {
   "cell_type": "code",
   "execution_count": null,
   "id": "6fea7676",
   "metadata": {},
   "outputs": [],
   "source": []
  }
 ],
 "metadata": {
  "kernelspec": {
   "display_name": "Python 3 (ipykernel)",
   "language": "python",
   "name": "python3"
  },
  "language_info": {
   "codemirror_mode": {
    "name": "ipython",
    "version": 3
   },
   "file_extension": ".py",
   "mimetype": "text/x-python",
   "name": "python",
   "nbconvert_exporter": "python",
   "pygments_lexer": "ipython3",
   "version": "3.11.5"
  }
 },
 "nbformat": 4,
 "nbformat_minor": 5
}
