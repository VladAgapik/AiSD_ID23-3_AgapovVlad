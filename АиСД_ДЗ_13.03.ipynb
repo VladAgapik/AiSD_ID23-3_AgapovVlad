{
 "cells": [
  {
   "cell_type": "code",
   "execution_count": 2,
   "id": "6318e66d",
   "metadata": {},
   "outputs": [],
   "source": [
    "l1 = ['1', '123', '123', '12', '1', '123']\n",
    "l2 = [2, 4, -2, -3, 0, 11 , 3, -1]\n",
    "\n",
    "d4 = {1: 10, 2: 20, 3: 30, 4: 40, 5: 50, 6: 60}\n",
    "d5 = {'a': 3, 'b': 4, 'c': 5, 'd': 6, 'e': 7, 'f': 8, 'g': 9}\n",
    "d6 = {'e': 20, 'f': 21, 'g': 22, 'h': 23, 'i': 24, 'j': 25, 'k': 26, 'l': 27}"
   ]
  },
  {
   "cell_type": "markdown",
   "id": "2e444066",
   "metadata": {},
   "source": [
    "4.13) Используюя список l1 создать список, в ктором каждый элемент списка l1 будет заменен значением длинны строки соответствующего элемента в списке l1. Использовать генераторы, решить задачу в одну строку."
   ]
  },
  {
   "cell_type": "code",
   "execution_count": 3,
   "id": "8cbfbcac",
   "metadata": {},
   "outputs": [
    {
     "name": "stdout",
     "output_type": "stream",
     "text": [
      "[1, 3, 3, 2, 1, 3]\n"
     ]
    }
   ],
   "source": [
    "result = [len(item) for item in l1]\n",
    "print(result)"
   ]
  },
  {
   "cell_type": "markdown",
   "id": "00cebf3e",
   "metadata": {},
   "source": [
    "4.14) Подсчитать количество строк в списке l1, длина которых больше 2х. Использовать генераторы, решить задачу в одну строку.\n",
    "\n"
   ]
  },
  {
   "cell_type": "code",
   "execution_count": 4,
   "id": "7b22820e",
   "metadata": {},
   "outputs": [
    {
     "name": "stdout",
     "output_type": "stream",
     "text": [
      "3\n"
     ]
    }
   ],
   "source": [
    "result = sum(1 for item in l1 if len(item) > 2)\n",
    "print(result)"
   ]
  },
  {
   "cell_type": "markdown",
   "id": "94de426b",
   "metadata": {},
   "source": [
    "\n",
    "4.15) Просуммировать произведение ключей на значения словаря d4.\n"
   ]
  },
  {
   "cell_type": "code",
   "execution_count": 6,
   "id": "a02b14fb",
   "metadata": {},
   "outputs": [
    {
     "name": "stdout",
     "output_type": "stream",
     "text": [
      "910\n"
     ]
    }
   ],
   "source": [
    "result = sum(key * value for key, value in d4.items())\n",
    "print(result)"
   ]
  },
  {
   "cell_type": "markdown",
   "id": "01496660",
   "metadata": {},
   "source": [
    "4.16) На базе словаря d6 составить словарь d7 в котором нет пар ключ-значение с ключами, встречающимися в словаре d5. Использовать генераторы, решить задачу в одну строку.\n",
    "\n"
   ]
  },
  {
   "cell_type": "code",
   "execution_count": 7,
   "id": "7b018d6b",
   "metadata": {},
   "outputs": [
    {
     "name": "stdout",
     "output_type": "stream",
     "text": [
      "{'h': 23, 'i': 24, 'j': 25, 'k': 26, 'l': 27}\n"
     ]
    }
   ],
   "source": [
    "d7 = {key: value for key, value in d6.items() if key not in d5}\n",
    "print(d7)"
   ]
  },
  {
   "cell_type": "markdown",
   "id": "2e14dff2",
   "metadata": {},
   "source": [
    "4.17) Создать список, в котором все числа списка l2 умножены на их номер в списке, остальные элементы сохранены на своих местах. Использовать генераторы, решить задачу в одну строку."
   ]
  },
  {
   "cell_type": "code",
   "execution_count": 9,
   "id": "76ea19cd",
   "metadata": {},
   "outputs": [
    {
     "name": "stdout",
     "output_type": "stream",
     "text": [
      "[0, 4, -4, -9, 0, 55, 18, -7]\n"
     ]
    }
   ],
   "source": [
    "result = [val * idx if isinstance(val, int) else val for idx, val in enumerate(l2)]\n",
    "print(result)"
   ]
  },
  {
   "cell_type": "markdown",
   "id": "1c7831b8",
   "metadata": {},
   "source": [
    "4.18) Создать список, в котором все отрицательные числа списка l2 исключены, остальные элементы сохранены на своих местах. Использовать генераторы, решить задачу в одну строку."
   ]
  },
  {
   "cell_type": "code",
   "execution_count": 10,
   "id": "47391ed9",
   "metadata": {},
   "outputs": [
    {
     "name": "stdout",
     "output_type": "stream",
     "text": [
      "[2, 4, 0, 11, 3]\n"
     ]
    }
   ],
   "source": [
    "l3 = [x for x in l2 if x >= 0]\n",
    "print(l3)"
   ]
  },
  {
   "cell_type": "markdown",
   "id": "144417bd",
   "metadata": {},
   "source": [
    "4.19) Создать список, в котором все отрицательные числа списка l2 заменены на их номер в списке, остальные элементы сохранены на своих местах. Использовать генераторы и тернарный оператор, решить задачу в одну строку."
   ]
  },
  {
   "cell_type": "code",
   "execution_count": 11,
   "id": "9edf18e9",
   "metadata": {},
   "outputs": [
    {
     "name": "stdout",
     "output_type": "stream",
     "text": [
      "[2, 4, 2, 3, 0, 11, 3, 7]\n"
     ]
    }
   ],
   "source": [
    "l3 = [i if i >= 0 else l2.index(i) for i in l2]\n",
    "print(l3)"
   ]
  },
  {
   "cell_type": "markdown",
   "id": "6063b9d2",
   "metadata": {},
   "source": [
    "5.1) Написать задокументированную функцию умножения двух чисел. Для каких типов данная функция будет возвращать практически ценный результат? Написать примеры использования этой функции."
   ]
  },
  {
   "cell_type": "code",
   "execution_count": 12,
   "id": "92bb1f5a",
   "metadata": {},
   "outputs": [
    {
     "name": "stdout",
     "output_type": "stream",
     "text": [
      "15\n",
      "10.0\n",
      "21\n"
     ]
    }
   ],
   "source": [
    "def multiply(x: int or float, y):\n",
    "    return x * y\n",
    "\n",
    "print(multiply(5, 3))\n",
    "print(multiply(2.5, 4))\n",
    "print(multiply(-3, -7))"
   ]
  },
  {
   "cell_type": "code",
   "execution_count": 13,
   "id": "19a98990",
   "metadata": {},
   "outputs": [
    {
     "name": "stdout",
     "output_type": "stream",
     "text": [
      "Help on function multiply in module __main__:\n",
      "\n",
      "multiply(x: int, y)\n",
      "\n"
     ]
    }
   ],
   "source": [
    "help(multiply)"
   ]
  },
  {
   "cell_type": "markdown",
   "id": "c1742f1b",
   "metadata": {},
   "source": [
    "5.2) Написать функцию умножения принимающую от одного до трех параметров. Написать примеры использования этой функции с разным количеством параметров."
   ]
  },
  {
   "cell_type": "code",
   "execution_count": 14,
   "id": "c6be01d1",
   "metadata": {},
   "outputs": [
    {
     "name": "stdout",
     "output_type": "stream",
     "text": [
      "2\n",
      "6\n",
      "24\n"
     ]
    }
   ],
   "source": [
    "def multiply(a, b=None, c=None):\n",
    "    if b is None:\n",
    "        return a\n",
    "    elif c is None:\n",
    "        return a * b\n",
    "    else:\n",
    "        return a * b * c\n",
    "     \n",
    "print(multiply(2))  \n",
    "print(multiply(2, 3))  \n",
    "print(multiply(2, 3, 4))"
   ]
  },
  {
   "cell_type": "markdown",
   "id": "18ba2b4a",
   "metadata": {},
   "source": [
    "5.3) Функцию из задания 2 вызвать с приведенными ниже аргументами. Для случая a4 выбрать 3 первых и 3 последних значения.\n",
    "a1 = (15, 10 ,5)\n",
    "a2 = (3, 1)\n",
    "a3 = [2, 35, 55]\n",
    "a4 = (5, 10 ,15, 20)\n"
   ]
  },
  {
   "cell_type": "code",
   "execution_count": 15,
   "id": "164d7717",
   "metadata": {},
   "outputs": [
    {
     "name": "stdout",
     "output_type": "stream",
     "text": [
      "750\n",
      "3\n",
      "3850\n",
      "750\n",
      "3000\n"
     ]
    }
   ],
   "source": [
    "a1_result = multiply(15, 10, 5)\n",
    "print(a1_result)\n",
    "\n",
    "a2_result = multiply(3, 1)\n",
    "print(a2_result)\n",
    "\n",
    "a3_result = multiply(2, 35, 55)\n",
    "print(a3_result)\n",
    "\n",
    "a4_first_result = multiply(5, 10, 15)\n",
    "print(a4_first_result)\n",
    "\n",
    "a4_last_result = multiply(10, 15, 20)\n",
    "print(a4_last_result)"
   ]
  },
  {
   "cell_type": "markdown",
   "id": "6dcade32",
   "metadata": {},
   "source": [
    "5.4) Реализовать функцию умножения, принимающую неограниченное количество значений. Написать примеры использования этой функции, в том числе с аргументами из задания 3."
   ]
  },
  {
   "cell_type": "code",
   "execution_count": 19,
   "id": "0159ff9e",
   "metadata": {},
   "outputs": [
    {
     "name": "stdout",
     "output_type": "stream",
     "text": [
      "750\n",
      "3\n",
      "3850\n",
      "3000\n"
     ]
    }
   ],
   "source": [
    "def multiply_params(*args):\n",
    "    result = 1\n",
    "    for num in args:\n",
    "        result *= num\n",
    "    return result\n",
    "\n",
    "print(multiply_params(a1_result))\n",
    "print(multiply_params(a2_result))\n",
    "print(multiply_params(a3_result))\n",
    "print(multiply_params(a4_last_result))"
   ]
  },
  {
   "cell_type": "markdown",
   "id": "07c2899e",
   "metadata": {},
   "source": [
    "5.5) Реализовать функции для выполнения четырех арифмитических операций преобразующих целые числа в целое число. Для двух заранее заданных целых чисел выполнить выбранную пользователем арифметическую операцию."
   ]
  },
  {
   "cell_type": "code",
   "execution_count": 20,
   "id": "2c2af5e3",
   "metadata": {},
   "outputs": [
    {
     "name": "stdout",
     "output_type": "stream",
     "text": [
      "Choose operation (+, -, *, /): +\n",
      "Enter a number: 2304\n",
      "Enter a number: 930\n",
      "Result: 3234\n"
     ]
    }
   ],
   "source": [
    "def addition(a, b):\n",
    "    return a + b\n",
    "\n",
    "def subtraction(a, b):\n",
    "    return a - b\n",
    "\n",
    "def multiplication(a, b):\n",
    "    return a * b\n",
    "\n",
    "def division(a, b):\n",
    "    if b != 0:\n",
    "        return a // b \n",
    "    else:\n",
    "        return \"Error, the number cannot be divided by zero\"\n",
    "\n",
    "\n",
    "operation = input(\"Choose operation (+, -, *, /): \")\n",
    "\n",
    "x = int(input(\"Enter a number: \"))\n",
    "y = int(input(\"Enter a number: \"))\n",
    "\n",
    "if operation == '+':\n",
    "    result = addition(x, y)\n",
    "elif operation == '-':\n",
    "    result = subtraction(x, y)\n",
    "elif operation == '*':\n",
    "    result = multiplication(x, y)\n",
    "elif operation == '/':\n",
    "    result = division(x, y)\n",
    "else:\n",
    "    result = \"Error: invalid operation\"\n",
    "\n",
    "print(\"Result:\", result)"
   ]
  },
  {
   "cell_type": "markdown",
   "id": "85f3ef06",
   "metadata": {},
   "source": [
    "5.6) Написать калькулятор для строковых выражений вида '<число> <операция> <число>', где <число> - целое число, например 113, <арифмитическая операция> - одна из операций +,-,*,/(деление нацело),%(остаток от деления),^(возведение в степень). Пример calc('13 - 5') -> 8"
   ]
  },
  {
   "cell_type": "code",
   "execution_count": 29,
   "id": "6d1c82f7",
   "metadata": {},
   "outputs": [
    {
     "name": "stdout",
     "output_type": "stream",
     "text": [
      "8\n",
      "2\n",
      "37\n",
      "16\n",
      "Неподдерживаемая операция\n"
     ]
    }
   ],
   "source": [
    "def calc(expression):\n",
    "    parts = expression.split()\n",
    "    \n",
    "    if len(parts) != 3:\n",
    "        return \"Неверный формат выражения\"\n",
    "    \n",
    "    num1 = int(parts[0])\n",
    "    operator = parts[1]\n",
    "    num2 = int(parts[2])\n",
    "    \n",
    "    if operator == '+':\n",
    "        return num1 + num2\n",
    "    elif operator == '-':\n",
    "        return num1 - num2\n",
    "    elif operator == '*':\n",
    "        return num1 * num2\n",
    "    elif operator == '/':\n",
    "        if num2 == 0:\n",
    "            return \"Деление на ноль недопустимо\"\n",
    "        return num1 // num2\n",
    "    elif operator == '%':\n",
    "        if num2 == 0:\n",
    "            return \"Деление на ноль недопустимо\"\n",
    "        return num1 % num2\n",
    "    elif operator == '^':\n",
    "        return num1 ** num2\n",
    "    else:\n",
    "        return \"Неподдерживаемая операция\"\n",
    "\n",
    "# Пример использования\n",
    "print(calc('13 - 5'))\n",
    "print(calc('6 / 3'))\n",
    "print(calc('34 + 3'))\n",
    "print(calc('2 ^ 4'))\n",
    "print(calc('14 : 3'))"
   ]
  },
  {
   "cell_type": "markdown",
   "id": "087d459d",
   "metadata": {},
   "source": [
    "5.7) Реализовать функцию которая выводит на экран сообщение вида:\n",
    "'Автомобиль марки: BMW, модели: X5, цвета: белый, 2006 года выпуска, с пробегом: 215 000 км, c номерным знаком: X012АМ77, цена: 1 115 000 руб.'\n",
    "В функцию передаются именованные параметры изменяемой части сообщения, лубой из параметров может быть не задан пользователем функции и автоматически заменен на разумное сообщение в соответствующей части строки. Получить вывод текстового сообщения для словарей c1, c2.\n"
   ]
  },
  {
   "cell_type": "code",
   "execution_count": 22,
   "id": "4d052e0c",
   "metadata": {},
   "outputs": [
    {
     "name": "stdout",
     "output_type": "stream",
     "text": [
      "Автомобиль марки: BMW, модели: X5, цвета: белый, 2006 года выпуска, с пробегом: 215 000 км, с номерным знаком: X012АМ77, цена: 1 115 000 руб.\n",
      "Автомобиль марки: Audi, модели: A4, цвета: неизвестный цвет, 2015 года выпуска, с пробегом: 85 000 км, с номерным знаком: неизвестный номер, цена: 1 550 000 руб.\n"
     ]
    }
   ],
   "source": [
    "def информация_о_автомобиле(**kwargs):\n",
    "    марка = kwargs.get('марка', 'неизвестная марка')\n",
    "    модель = kwargs.get('модель', 'неизвестная модель')\n",
    "    цвет = kwargs.get('цвет', 'неизвестный цвет')\n",
    "    год_выпуска = kwargs.get('год_выпуска', 'неизвестный год')\n",
    "    пробег = kwargs.get('пробег', 'неизвестный пробег')\n",
    "    номерной_знак = kwargs.get('номерной_знак', 'неизвестный номер')\n",
    "    цена = kwargs.get('цена', 'неизвестная цена')\n",
    "\n",
    "    сообщение = f\"Автомобиль марки: {марка}, модели: {модель}, цвета: {цвет}, {год_выпуска} года выпуска, с пробегом: {пробег} км, с номерным знаком: {номерной_знак}, цена: {цена} руб.\"\n",
    "    print(сообщение)\n",
    "\n",
    "c1 = {\n",
    "    'марка': 'BMW',\n",
    "    'модель': 'X5',\n",
    "    'цвет': 'белый',\n",
    "    'год_выпуска': 2006,\n",
    "    'пробег': '215 000',\n",
    "    'номерной_знак': 'X012АМ77',\n",
    "    'цена': '1 115 000'\n",
    "}\n",
    "\n",
    "c2 = {\n",
    "    'марка': 'Audi',\n",
    "    'модель': 'A4',\n",
    "    'год_выпуска': 2015,\n",
    "    'пробег': '85 000',\n",
    "    'цена': '1 550 000'\n",
    "}\n",
    "\n",
    "# Вывод сообщения для двух различных словарей\n",
    "информация_о_автомобиле(**c1)\n",
    "информация_о_автомобиле(**c2)"
   ]
  },
  {
   "cell_type": "markdown",
   "id": "74b182a8",
   "metadata": {},
   "source": [
    "5.8) Написать функцию, которая преобразует целое число (от 0 до 99) в текстовое написание числа на русском языке. Пример: to_text(15) -> 'Пятнадцать'"
   ]
  },
  {
   "cell_type": "code",
   "execution_count": 23,
   "id": "235f6dd8",
   "metadata": {},
   "outputs": [
    {
     "name": "stdout",
     "output_type": "stream",
     "text": [
      "Пятнадцать\n",
      "Сорок два\n",
      "Девяносто девять\n"
     ]
    }
   ],
   "source": [
    "def to_text(number):\n",
    "    numbers_dict = {\n",
    "        0: 'Ноль', 1: 'Один', 2: 'Два', 3: 'Три', 4: 'Четыре', 5: 'Пять',\n",
    "        6: 'Шесть', 7: 'Семь', 8: 'Восемь', 9: 'Девять', 10: 'Десять',\n",
    "        11: 'Одиннадцать', 12: 'Двенадцать', 13: 'Тринадцать', 14: 'Четырнадцать',\n",
    "        15: 'Пятнадцать', 16: 'Шестнадцать', 17: 'Семнадцать', 18: 'Восемнадцать',\n",
    "        19: 'Девятнадцать', 20: 'Двадцать', 30: 'Тридцать', 40: 'Сорок',\n",
    "        50: 'Пятьдесят', 60: 'Шестьдесят', 70: 'Семьдесят', 80: 'Восемьдесят',\n",
    "        90: 'Девяносто'\n",
    "    }\n",
    "\n",
    "    if number in numbers_dict:\n",
    "        return numbers_dict[number]\n",
    "\n",
    "    tens = number // 10 * 10\n",
    "    ones = number % 10\n",
    "\n",
    "    return f\"{numbers_dict[tens]} {numbers_dict[ones].lower()}\"\n",
    "\n",
    "print(to_text(15))  \n",
    "print(to_text(42))  \n",
    "print(to_text(99))  \n"
   ]
  },
  {
   "cell_type": "markdown",
   "id": "ce50885b",
   "metadata": {},
   "source": [
    "5.9) Написать функцию, которая преобразует целое число (от 0 до 999) из текстового представления на руссокм языке в число типа int. Пример: to_int('тридцать три') -> 33\n",
    "\n"
   ]
  },
  {
   "cell_type": "code",
   "execution_count": 24,
   "id": "2d76acf9",
   "metadata": {},
   "outputs": [
    {
     "name": "stdout",
     "output_type": "stream",
     "text": [
      "33\n",
      "125\n",
      "213\n",
      "500\n"
     ]
    }
   ],
   "source": [
    "def to_int(text): #Создается функция to_int(text), которая принимает текст в виде цифр на русском языке\n",
    "    numbers_dict = {\n",
    "        'ноль': 0, 'один': 1, 'два': 2, 'три': 3, 'четыре': 4, 'пять': 5,\n",
    "        'шесть': 6, 'семь': 7, 'восемь': 8, 'девять': 9, 'десять': 10,\n",
    "        'одиннадцать': 11, 'двенадцать': 12, 'тринадцать': 13, 'четырнадцать': 14,\n",
    "        'пятнадцать': 15, 'шестнадцать': 16, 'семнадцать': 17, 'восемнадцать': 18,\n",
    "        'девятнадцать': 19, 'двадцать': 20, 'тридцать': 30, 'сорок': 40,\n",
    "        'пятьдесят': 50, 'шестьдесят': 60, 'семьдесят': 70, 'восемьдесят': 80,\n",
    "        'девяносто': 90, 'сто': 100, 'двести': 200, 'триста': 300, 'четыреста': 400, 'пятьсот': 500,\n",
    "        'шестьсот': 600, 'семьсот': 700, 'восемьсот': 800, 'девятьсот': 900\n",
    "    }\n",
    "\n",
    "    words = text.split() #Входной текст разбивается на слова и записывается в переменную words\n",
    "    \n",
    "    #Если слов в тексте только одно, то возвращается соответствующее численное значение из словаря numbers_dict\n",
    "    if len(words) == 1:\n",
    "        return numbers_dict[words[0]] \n",
    "\n",
    "    #Создаются переменные total (итоговое число), current_total (текущее число) и prev_total (предыдущее число)\n",
    "    total = 0\n",
    "    current_total = 0\n",
    "    prev_total = 0\n",
    "\n",
    " #   Для каждого слова из текста:\n",
    "  # - Считывается численное значение из словаря\n",
    "   #- Если число меньше 10, то оно добавляется в current_total\n",
    "  # - Если число в диапазоне от 10 до 100, и предыдущий total равен 0, то число прибавляется к current_total, иначе произведение умножается на число\n",
    "  # - Если число в диапазоне от 100 до 1000, и предыдущий total равен 0, то число прибавляется к current_total, иначе произведение умножается на число, текущее число добавляется к общему total, и текущее число обнуляется\n",
    "    for word in words:\n",
    "        number = numbers_dict[word]\n",
    "        if number < 10:\n",
    "            current_total += number\n",
    "        elif number < 100:\n",
    "            if prev_total == 0:\n",
    "                current_total += number\n",
    "            else:\n",
    "                current_total *= number\n",
    "        elif number < 1000:\n",
    "            if prev_total == 0:\n",
    "                current_total += number\n",
    "            else:\n",
    "                current_total *= number\n",
    "                total += current_total\n",
    "                current_total = 0\n",
    "                prev_total = number\n",
    "\n",
    "    #К total добавляется current_total и возвращается итоговое число\n",
    "    total += current_total\n",
    "    return total\n",
    "\n",
    "\n",
    "print(to_int('тридцать три'))  \n",
    "print(to_int('сто двадцать пять'))  \n",
    "print(to_int('двести тринадцать'))  \n",
    "print(to_int('пятьсот'))  "
   ]
  }
 ],
 "metadata": {
  "kernelspec": {
   "display_name": "Python 3 (ipykernel)",
   "language": "python",
   "name": "python3"
  },
  "language_info": {
   "codemirror_mode": {
    "name": "ipython",
    "version": 3
   },
   "file_extension": ".py",
   "mimetype": "text/x-python",
   "name": "python",
   "nbconvert_exporter": "python",
   "pygments_lexer": "ipython3",
   "version": "3.11.5"
  }
 },
 "nbformat": 4,
 "nbformat_minor": 5
}
