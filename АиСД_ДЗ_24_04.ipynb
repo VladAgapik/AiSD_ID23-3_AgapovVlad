{
 "cells": [
  {
   "cell_type": "markdown",
   "id": "08fc63c8",
   "metadata": {},
   "source": [
    "№32.1"
   ]
  },
  {
   "cell_type": "markdown",
   "id": "b6d6b270",
   "metadata": {},
   "source": [
    "Используя модуль array и библиотеку numpy, решить следующие задачи:\n",
    "а) Дан массив размера  N . Найти количество участков, на которых его элементы возрастают.\n",
    "б) Дана квадратная матрица  A  порядка  M . Найти сумму элементов каждой ее диагонали, параллельной главной (начиная с одноэлементной диагонали  A1,M )."
   ]
  },
  {
   "cell_type": "code",
   "execution_count": 1,
   "id": "9e0e5511",
   "metadata": {},
   "outputs": [
    {
     "name": "stdout",
     "output_type": "stream",
     "text": [
      "Number of increasing sections: 3\n"
     ]
    }
   ],
   "source": [
    "import numpy as np\n",
    "from array import array\n",
    "\n",
    "def count_increasing_sections(arr):\n",
    "    count = 0\n",
    "    increasing = False\n",
    "    \n",
    "    for i in range(len(arr)-1):\n",
    "        if arr[i+1] > arr[i]:\n",
    "            increasing = True\n",
    "        elif arr[i+1] < arr[i] and increasing:\n",
    "            count += 1\n",
    "            increasing = False\n",
    "    \n",
    "    if increasing:\n",
    "        count += 1\n",
    "    \n",
    "    return count\n",
    "\n",
    "N = 10\n",
    "arr = array('i', [1, 2, 3, 5, 4, 7, 8, 10, 3, 6])\n",
    "\n",
    "print(\"Количество увеличивающихся секций:\", count_increasing_sections(arr))"
   ]
  },
  {
   "cell_type": "code",
   "execution_count": 2,
   "id": "ba0d2708",
   "metadata": {},
   "outputs": [
    {
     "name": "stdout",
     "output_type": "stream",
     "text": [
      "Sum of the diagonal 1 : 1.0\n",
      "Sum of the diagonal 2 : 6.0\n",
      "Sum of the diagonal 3 : 15.0\n",
      "Sum of the diagonal 4 : 14.0\n",
      "Sum of the diagonal 5 : 9.0\n"
     ]
    }
   ],
   "source": [
    "import numpy as np\n",
    "from array import array\n",
    "\n",
    "def sum_parallel_diagonals(matrix):\n",
    "    n = len(matrix)\n",
    "    diagonal_sums = np.zeros(2*n - 1)\n",
    "    \n",
    "    for i in range(n):\n",
    "        for j in range(n):\n",
    "            diagonal_sums[i+j] += matrix[i][j]\n",
    "    \n",
    "    return diagonal_sums\n",
    "\n",
    "M = 3\n",
    "A = [[1, 2, 3], [4, 5, 6], [7, 8, 9]]\n",
    "A_np = np.array(A)\n",
    "\n",
    "diagonal_sums = sum_parallel_diagonals(A)\n",
    "\n",
    "for i in range(len(diagonal_sums)):\n",
    "    print(\"Сумма диагонали\", i+1, \":\", diagonal_sums[i])"
   ]
  },
  {
   "cell_type": "markdown",
   "id": "d6e09f2e",
   "metadata": {},
   "source": [
    "33.1)Задачу решить двумя способами:\n",
    "\n",
    "Реализовать класс стек через использование списка:\n",
    "\n",
    "Создать класс Stack с методами:\n",
    "\n",
    "- push(item): добавляет элемент item в верхушку стека;\n",
    "- pop(): удаляет и возвращает элемент из верхушки стека;\n",
    "- peek(): возвращает элемент из верхушки стека без его удаления;\n",
    "- is_empty(): проверяет, пуст ли стек;\n",
    "- size(): возвращает текущий размер стека."
   ]
  },
  {
   "cell_type": "code",
   "execution_count": 7,
   "id": "4fbcb15a",
   "metadata": {},
   "outputs": [
    {
     "name": "stdout",
     "output_type": "stream",
     "text": [
      "3\n",
      "3\n",
      "3\n",
      "2\n",
      "1\n",
      "True\n"
     ]
    }
   ],
   "source": [
    "# Способ 1\n",
    "class Stack:\n",
    "    def __init__(self):\n",
    "        self.items = []\n",
    "\n",
    "    def push(self, item):\n",
    "        self.items.append(item)\n",
    "\n",
    "    def pop(self):\n",
    "        if not self.is_empty():\n",
    "            return self.items.pop()\n",
    "        else:\n",
    "            return None\n",
    "\n",
    "    def peek(self):\n",
    "        if not self.is_empty():\n",
    "            return self.items[-1]\n",
    "        else:\n",
    "            return None\n",
    "\n",
    "    def is_empty(self):\n",
    "        return len(self.items) == 0\n",
    "\n",
    "    def size(self):\n",
    "        return len(self.items)\n",
    "\n",
    "\n",
    "# Пример использования\n",
    "stack = Stack()\n",
    "stack.push(1)\n",
    "stack.push(2)\n",
    "stack.push(3)\n",
    "\n",
    "print(stack.size())  \n",
    "\n",
    "print(stack.peek())  \n",
    "\n",
    "print(stack.pop())  \n",
    "print(stack.pop())  \n",
    "print(stack.pop())  \n",
    "\n",
    "print(stack.is_empty())  "
   ]
  },
  {
   "cell_type": "code",
   "execution_count": 8,
   "id": "d0c70122",
   "metadata": {},
   "outputs": [
    {
     "name": "stdout",
     "output_type": "stream",
     "text": [
      "3\n",
      "3\n",
      "3\n",
      "2\n",
      "1\n",
      "True\n"
     ]
    }
   ],
   "source": [
    "# Способ 2\n",
    "from collections import deque\n",
    "\n",
    "class Stack:\n",
    "    def __init__(self):\n",
    "        self.items = deque()\n",
    "\n",
    "    def push(self, item):\n",
    "        self.items.append(item)\n",
    "\n",
    "    def pop(self):\n",
    "        if not self.is_empty():\n",
    "            return self.items.pop()\n",
    "        else:\n",
    "            return None\n",
    "\n",
    "    def peek(self):\n",
    "        if not self.is_empty():\n",
    "            return self.items[-1]\n",
    "        else:\n",
    "            return None\n",
    "\n",
    "    def is_empty(self):\n",
    "        return len(self.items) == 0\n",
    "\n",
    "    def size(self):\n",
    "        return len(self.items)\n",
    "\n",
    "\n",
    "# Пример использования\n",
    "stack = Stack()\n",
    "stack.push(1)\n",
    "stack.push(2)\n",
    "stack.push(3)\n",
    "\n",
    "print(stack.size())  \n",
    "\n",
    "print(stack.peek())  \n",
    "\n",
    "print(stack.pop())  \n",
    "print(stack.pop())  \n",
    "print(stack.pop())  \n",
    "\n",
    "print(stack.is_empty()) "
   ]
  },
  {
   "cell_type": "markdown",
   "id": "ab662d76",
   "metadata": {},
   "source": [
    "34.1)Задачу решить двумя способами:\n",
    "\n",
    "Реализовать класс очередь через использование списка:\n",
    "\n",
    "Создать класс Queue с методами:\n",
    "- enqueue(item): добавляет элемент item в конец очереди;\n",
    "- dequeue(): удаляет и возвращает элемент из начала очереди;\n",
    "- peek(): возвращает элемент из начала очереди без его удаления;\n",
    "- is_empty(): проверяет, пуста ли очередь;\n",
    "- size(): возвращает текущий размер очереди."
   ]
  },
  {
   "cell_type": "code",
   "execution_count": 9,
   "id": "6902ae99",
   "metadata": {},
   "outputs": [
    {
     "name": "stdout",
     "output_type": "stream",
     "text": [
      "3\n",
      "1\n",
      "1\n",
      "2\n",
      "3\n",
      "True\n"
     ]
    }
   ],
   "source": [
    "# Способ 1\n",
    "class Queue:\n",
    "    def __init__(self):\n",
    "        self.items = []\n",
    "\n",
    "    def enqueue(self, item):\n",
    "        self.items.append(item)\n",
    "\n",
    "    def dequeue(self):\n",
    "        if not self.is_empty():\n",
    "            return self.items.pop(0)\n",
    "        else:\n",
    "            return None\n",
    "\n",
    "    def peek(self):\n",
    "        if not self.is_empty():\n",
    "            return self.items[0]\n",
    "        else:\n",
    "            return None\n",
    "\n",
    "    def is_empty(self):\n",
    "        return len(self.items) == 0\n",
    "\n",
    "    def size(self):\n",
    "        return len(self.items)\n",
    "\n",
    "\n",
    "# Пример использования\n",
    "queue = Queue()\n",
    "queue.enqueue(1)\n",
    "queue.enqueue(2)\n",
    "queue.enqueue(3)\n",
    "\n",
    "print(queue.size()) \n",
    "\n",
    "print(queue.peek())  \n",
    "\n",
    "print(queue.dequeue())  \n",
    "print(queue.dequeue())  \n",
    "print(queue.dequeue())  \n",
    "\n",
    "print(queue.is_empty())  "
   ]
  },
  {
   "cell_type": "code",
   "execution_count": 10,
   "id": "0b61166f",
   "metadata": {},
   "outputs": [
    {
     "name": "stdout",
     "output_type": "stream",
     "text": [
      "3\n",
      "1\n",
      "1\n",
      "2\n",
      "3\n",
      "True\n"
     ]
    }
   ],
   "source": [
    "# Способ 2\n",
    "from collections import deque\n",
    "\n",
    "class Queue:\n",
    "    def __init__(self):\n",
    "        self.items = deque()\n",
    "\n",
    "    def enqueue(self, item):\n",
    "        self.items.append(item)\n",
    "\n",
    "    def dequeue(self):\n",
    "        if not self.is_empty():\n",
    "            return self.items.popleft()\n",
    "        else:\n",
    "            return None\n",
    "\n",
    "    def peek(self):\n",
    "        if not self.is_empty():\n",
    "            return self.items[0]\n",
    "        else:\n",
    "            return None\n",
    "\n",
    "    def is_empty(self):\n",
    "        return len(self.items) == 0\n",
    "\n",
    "    def size(self):\n",
    "        return len(self.items)\n",
    "\n",
    "\n",
    "# Пример использования\n",
    "queue = Queue()\n",
    "queue.enqueue(1)\n",
    "queue.enqueue(2)\n",
    "queue.enqueue(3)\n",
    "\n",
    "print(queue.size())  \n",
    "\n",
    "print(queue.peek())  \n",
    "\n",
    "print(queue.dequeue())  \n",
    "print(queue.dequeue())  \n",
    "print(queue.dequeue()) \n",
    "\n",
    "print(queue.is_empty())  "
   ]
  },
  {
   "cell_type": "code",
   "execution_count": null,
   "id": "80e39f0b",
   "metadata": {},
   "outputs": [],
   "source": []
  }
 ],
 "metadata": {
  "kernelspec": {
   "display_name": "Python 3 (ipykernel)",
   "language": "python",
   "name": "python3"
  },
  "language_info": {
   "codemirror_mode": {
    "name": "ipython",
    "version": 3
   },
   "file_extension": ".py",
   "mimetype": "text/x-python",
   "name": "python",
   "nbconvert_exporter": "python",
   "pygments_lexer": "ipython3",
   "version": "3.11.5"
  }
 },
 "nbformat": 4,
 "nbformat_minor": 5
}
