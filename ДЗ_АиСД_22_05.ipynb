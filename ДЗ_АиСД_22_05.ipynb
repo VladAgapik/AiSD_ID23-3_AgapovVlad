{
 "cells": [
  {
   "cell_type": "markdown",
   "id": "cb51ebb9",
   "metadata": {},
   "source": [
    "№41.1"
   ]
  },
  {
   "cell_type": "markdown",
   "id": "37834822",
   "metadata": {},
   "source": [
    "а) Создать класс «Студент» с полями «Имя», «Фамилия», «Год рождения» и «Средний балл». Создать хеш-таблицу для хранения объектов класса «Студент» по ключу — номеру зачетной книжки."
   ]
  },
  {
   "cell_type": "code",
   "execution_count": 13,
   "id": "d02b8d0c",
   "metadata": {},
   "outputs": [
    {
     "name": "stdout",
     "output_type": "stream",
     "text": [
      "Иван\n"
     ]
    }
   ],
   "source": [
    "# Создание класса Студент и инициализация различных переменных\n",
    "class Student: \n",
    "    def __init__(self, name, surname, birth_year, avg_score):\n",
    "        self.name = name\n",
    "        self.surname = surname\n",
    "        self.birth_year = birth_year\n",
    "        self.avg_score = avg_score\n",
    "\n",
    "# Создание хеш-таблицы\n",
    "student_hash_table = {}\n",
    "\n",
    "# Добавление студентов в хеш-таблицу\n",
    "student1 = Student(\"Иван\", \"Иванов\", 1995, 4.5)\n",
    "student2 = Student(\"Петр\", \"Петров\", 1996, 4.2)\n",
    "student3 = Student(\"Мария\", \"Сидорова\", 1997, 4.8)\n",
    "\n",
    "student_hash_table[12345] = student1\n",
    "student_hash_table[23456] = student2\n",
    "student_hash_table[34567] = student3\n",
    "\n",
    "# Проверка работоспособности\n",
    "print(student_hash_table[12345].name)  "
   ]
  },
  {
   "cell_type": "markdown",
   "id": "f83285b1",
   "metadata": {},
   "source": [
    "б) Функция для объединения двух хеш-таблиц"
   ]
  },
  {
   "cell_type": "code",
   "execution_count": 14,
   "id": "35a68218",
   "metadata": {},
   "outputs": [
    {
     "name": "stdout",
     "output_type": "stream",
     "text": [
      "{1: 'Иван', 2: 'Петр', 3: 'Мария', 4: 'Сергей'}\n"
     ]
    }
   ],
   "source": [
    "# Создаём функцию, объединяющую 2 хеш-таблицы\n",
    "def merge_hash_tables(table1, table2):\n",
    "    for key, value in table2.items():\n",
    "        table1[key] = value\n",
    "    return table1\n",
    "\n",
    "# Создаём 2 таблицы для проверки функции\n",
    "table1 = {1: \"Иван\", 2: \"Петр\"}\n",
    "table2 = {3: \"Мария\", 4: \"Сергей\"}\n",
    "\n",
    "merged_table = merge_hash_tables(table1, table2)\n",
    "\n",
    "print(merged_table)  "
   ]
  },
  {
   "cell_type": "markdown",
   "id": "dee922e8",
   "metadata": {},
   "source": [
    "в) Хеш-таблица для хранения информации о клиентах туристического агентства с методом разрешения коллизий методом открытой адресации с линейным пробированием"
   ]
  },
  {
   "cell_type": "code",
   "execution_count": 15,
   "id": "7442fbff",
   "metadata": {},
   "outputs": [
    {
     "name": "stdout",
     "output_type": "stream",
     "text": [
      "Иван Иванов\n"
     ]
    }
   ],
   "source": [
    "# Создаём класс Клиент и инициализируем переменные \n",
    "class Customer:\n",
    "    def __init__(self, name, passport_number, contact_info, ordered_tours):\n",
    "        self.name = name\n",
    "        self.passport_number = passport_number\n",
    "        self.contact_info = contact_info\n",
    "        self.ordered_tours = ordered_tours\n",
    "\n",
    "# Создаём класс Хеш-таблица и инициализируем переменные\n",
    "class HashTable:\n",
    "    def __init__(self, size):\n",
    "        self.size = size\n",
    "        self.table = [None] * size\n",
    "\n",
    "    # Возврат хеш-функции для ключа \n",
    "    def hash_function(self, key):\n",
    "        return key % self.size\n",
    "    \n",
    "    # Функция для вставки элемента \n",
    "    def insert(self, key, value): \n",
    "        hash_value = self.hash_function(key)\n",
    "        index = hash_value\n",
    "\n",
    "        while self.table[index] is not None:\n",
    "            index = (index + 1) % self.size\n",
    "\n",
    "        self.table[index] = value\n",
    "\n",
    "    # Функция для возврата значения, связанного с ключом\n",
    "    def get(self, key):\n",
    "        hash_value = self.hash_function(key)\n",
    "        index = hash_value\n",
    "\n",
    "        while self.table[index] is not None:\n",
    "            if self.table[index].passport_number == key:\n",
    "                return self.table[index]\n",
    "            index = (index + 1) % self.size\n",
    "\n",
    "        return None\n",
    "\n",
    "    # Функция для удаления элемента из хеш-таблицы \n",
    "    def remove(self, key):\n",
    "        hash_value = self.hash_function(key)\n",
    "        index = hash_value\n",
    "\n",
    "        while self.table[index] is not None:\n",
    "            if self.table[index].passport_number == key:\n",
    "                self.table[index] = None\n",
    "                return\n",
    "            index = (index + 1) % self.size\n",
    "\n",
    "# Создание хеш-таблицы\n",
    "hash_table = HashTable(10)\n",
    "\n",
    "# Добавление клиентов в хеш-таблицу\n",
    "customer1 = Customer(\"Иван Иванов\", 123456789, \"ivan@example.com\", [])\n",
    "customer2 = Customer(\"Петр Петров\", 234567890, \"petr@example.com\", [])\n",
    "customer3 = Customer(\"Мария Сидорова\", 345678901, \"maria@example.com\", [])\n",
    "\n",
    "hash_table.insert(123456789, customer1)\n",
    "hash_table.insert(234567890, customer2)\n",
    "hash_table.insert(345678901, customer3)\n",
    "\n",
    "# Проверка работоспособности\n",
    "print(hash_table.get(123456789).name)  # Выведет \"Иван Иванов\""
   ]
  }
 ],
 "metadata": {
  "kernelspec": {
   "display_name": "Python 3 (ipykernel)",
   "language": "python",
   "name": "python3"
  },
  "language_info": {
   "codemirror_mode": {
    "name": "ipython",
    "version": 3
   },
   "file_extension": ".py",
   "mimetype": "text/x-python",
   "name": "python",
   "nbconvert_exporter": "python",
   "pygments_lexer": "ipython3",
   "version": "3.11.5"
  }
 },
 "nbformat": 4,
 "nbformat_minor": 5
}
