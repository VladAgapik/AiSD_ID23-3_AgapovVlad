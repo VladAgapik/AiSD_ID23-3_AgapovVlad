{
  "nbformat": 4,
  "nbformat_minor": 0,
  "metadata": {
    "colab": {
      "provenance": []
    },
    "kernelspec": {
      "name": "python3",
      "display_name": "Python 3"
    },
    "language_info": {
      "name": "python"
    }
  },
  "cells": [
    {
      "cell_type": "markdown",
      "source": [
        "1) При помощи стека (можно использовать любую реализацию стека, например, из лекции) проверить, что в строке, содержащей большой фрагмент кода на python, корректно открываются и закрываются скобки '(' и ')'. Заводить какие-либо счетчики и вообще вести подсчет скобок запрещено.\n",
        "Например, в следующей строке корректное количество скобок:\n",
        "'((dsasdas((das(d)das)d)asd)da)'\n",
        "А вот в следующей закрывающих больше, чем открывающих:\n",
        "'(f(gfhd((hgfdg((fghh)dads)das))ds)adddads())))'\n"
      ],
      "metadata": {
        "id": "IMQiA3QzXgwf"
      }
    },
    {
      "cell_type": "code",
      "source": [
        "def check_brackets(s):\n",
        "    stack = []\n",
        "\n",
        "    for char in s:\n",
        "        if char == '(':\n",
        "            stack.append('(')\n",
        "        elif char == ')':\n",
        "            if not stack or stack[-1] != '(':\n",
        "                return False\n",
        "            stack.pop()\n",
        "\n",
        "    return len(stack) == 0\n",
        "\n",
        "print(check_brackets(\"((dsasdas((das(d)das)d)asd)da)\"))\n",
        "print(check_brackets(\"(f(gfhd((hgfdg((fghh)dads)das))ds)adddads())))\"))\n"
      ],
      "metadata": {
        "colab": {
          "base_uri": "https://localhost:8080/"
        },
        "id": "3jis65_jXppm",
        "outputId": "8d6dae72-5580-41d2-f8b2-11516d2b930a"
      },
      "execution_count": 2,
      "outputs": [
        {
          "output_type": "stream",
          "name": "stdout",
          "text": [
            "True\n",
            "False\n"
          ]
        }
      ]
    },
    {
      "cell_type": "markdown",
      "source": [
        "2) С помощью списка (списка) реализовать стек. При создании стека необходимо передать высоту стека. В случае добавления элемента, приводящего к превышению емкости, происходит возврат ошибки. Стек должен поддерживать следующую операцию: S.push(e): добавление элемента e на вершину стека SSpop(): сохраняется и возвращает верхний элемент стека S. Если стек пуст, возникает ошибка. S.top(): возвращает верхний элемент стека S, не удаляя его. Если стек пуст, произойдет ошибка. S.is_empty( ): возвращает значение True, если стек S не содержит ни одного элемента. len(S): возвращает текущее количество элементов в стеке S."
      ],
      "metadata": {
        "id": "0W85s2PbYSOP"
      }
    },
    {
      "cell_type": "code",
      "source": [
        "class Stack:\n",
        "    def __init__(self, max_size):\n",
        "        self.max_size = max_size\n",
        "        self.stack = []\n",
        "    def push(self, element):\n",
        "        if len(self.stack) == self.max_size:\n",
        "            raise IndexError(\"Stack is full\")\n",
        "        self.stack.append(element)\n",
        "    def pop(self):\n",
        "        if self.is_empty():\n",
        "            raise IndexError(\"Stack is empty\")\n",
        "        return self.stack.pop()\n",
        "    def top(self):\n",
        "        if self.is_empty():\n",
        "            raise IndexError(\"Stack is empty\")\n",
        "        return self.stack[-1]\n",
        "    def is_empty(self):\n",
        "        return len(self.stack) == 0\n",
        "    def __len__(self):\n",
        "        return len(self.stack)\n",
        "\n",
        "my_stack = Stack(5)\n",
        "print(my_stack.is_empty())\n",
        "\n",
        "my_stack.push(1)\n",
        "my_stack.push(2)\n",
        "my_stack.push(3)\n",
        "print(my_stack.top())\n",
        "print(len(my_stack))\n",
        "\n",
        "my_stack.pop()\n",
        "print(my_stack.top())\n",
        "\n",
        "my_stack.push(4)\n",
        "my_stack.push(5)\n",
        "print(my_stack.is_empty())\n",
        "print(len(my_stack))\n",
        "\n",
        "my_stack.push(6)"
      ],
      "metadata": {
        "colab": {
          "base_uri": "https://localhost:8080/"
        },
        "id": "Kr30AV4sYxEg",
        "outputId": "fe491473-3a4e-4631-cb6e-ef68ac612499"
      },
      "execution_count": 3,
      "outputs": [
        {
          "output_type": "stream",
          "name": "stdout",
          "text": [
            "True\n",
            "3\n",
            "3\n",
            "2\n",
            "False\n",
            "4\n"
          ]
        }
      ]
    },
    {
      "cell_type": "markdown",
      "source": [
        "3) Реализовать класс однонаправленного связанного списка.  \n",
        "3.1) Реализовать метод добавления элемента в начало списка.  "
      ],
      "metadata": {
        "id": "7ZxyXdleZu-3"
      }
    },
    {
      "cell_type": "code",
      "source": [
        "class Node:\n",
        "    def __init__(self, data):\n",
        "        self.data = data\n",
        "        self.next = None\n",
        "\n",
        "class LinkedList:\n",
        "    def __init__(self):\n",
        "        self.head = None\n",
        "    def add_front(self, data):\n",
        "        new_node = Node(data)\n",
        "        new_node.next = self.head\n",
        "        self.head = new_node\n",
        "    def display(self):\n",
        "        current = self.head\n",
        "        while current:\n",
        "            print(current.data, end=' -> ')\n",
        "            current = current.next\n",
        "        print(\"None\")\n",
        "\n",
        "linked_list = LinkedList()\n",
        "linked_list.add_front(3)\n",
        "linked_list.add_front(2)\n",
        "linked_list.add_front(1)\n",
        "linked_list.display()"
      ],
      "metadata": {
        "colab": {
          "base_uri": "https://localhost:8080/"
        },
        "id": "yPNvpsOfZwMq",
        "outputId": "642b1407-8a1d-4b16-d28e-0f1d75208910"
      },
      "execution_count": 8,
      "outputs": [
        {
          "output_type": "stream",
          "name": "stdout",
          "text": [
            "1 -> 2 -> 3 -> None\n"
          ]
        }
      ]
    },
    {
      "cell_type": "markdown",
      "source": [
        "4) На базе класса однонаправленного связанного списка реализовать двунаправленный связанный список.  \n",
        "4.1) Реализовать метод добавления элемента в начало списка.  "
      ],
      "metadata": {
        "id": "KQArLMbmh9m-"
      }
    },
    {
      "cell_type": "code",
      "source": [
        "class DoubleNode:\n",
        "    def __init__(self, data):\n",
        "        self.data = data\n",
        "        self.next = None\n",
        "        self.prev = None\n",
        "\n",
        "class DoublyLinkedList:\n",
        "    def __init__(self):\n",
        "        self.head = None\n",
        "    def add_front(self, data):\n",
        "        new_node = DoubleNode(data)\n",
        "        if self.head is None:\n",
        "            self.head = new_node\n",
        "        else:\n",
        "            new_node.next = self.head\n",
        "            self.head.prev = new_node\n",
        "            self.head = new_node\n",
        "    def display(self):\n",
        "        current = self.head\n",
        "        while current:\n",
        "            print(current.data, end=' -> ')\n",
        "            current = current.next\n",
        "        print(\"None\")\n",
        "\n",
        "doubly_linked_list = DoublyLinkedList()\n",
        "doubly_linked_list.add_front(3)\n",
        "doubly_linked_list.add_front(2)\n",
        "doubly_linked_list.add_front(1)\n",
        "doubly_linked_list.display()"
      ],
      "metadata": {
        "colab": {
          "base_uri": "https://localhost:8080/"
        },
        "id": "y1WV3y5SiieH",
        "outputId": "ef98faf9-5ae5-41a1-fa94-23ee701e321e"
      },
      "execution_count": 9,
      "outputs": [
        {
          "output_type": "stream",
          "name": "stdout",
          "text": [
            "1 -> 2 -> 3 -> None\n"
          ]
        }
      ]
    },
    {
      "cell_type": "markdown",
      "source": [
        "5) При помощи класса связанного списка реализовать очередь."
      ],
      "metadata": {
        "id": "t77IeBV-jPY3"
      }
    },
    {
      "cell_type": "code",
      "source": [
        "class Node:\n",
        "    def __init__(self, data):\n",
        "        self.data = data\n",
        "        self.next = None\n",
        "\n",
        "class Queue:\n",
        "    def __init__(self):\n",
        "        self.head = None\n",
        "        self.tail = None\n",
        "    def enqueue(self, data):\n",
        "        new_node = Node(data)\n",
        "        if self.tail is None:\n",
        "            self.head = new_node\n",
        "            self.tail = new_node\n",
        "        else:\n",
        "            self.tail.next = new_node\n",
        "            self.tail = new_node\n",
        "    def dequeue(self):\n",
        "        if self.head is None:\n",
        "            return None\n",
        "        else:\n",
        "            data = self.head.data\n",
        "            self.head = self.head.next\n",
        "            if self.head is None:\n",
        "                self.tail = None\n",
        "            return data\n",
        "    def display(self):\n",
        "        current = self.head\n",
        "        while current:\n",
        "            print(current.data, end=' -> ')\n",
        "            current = current.next\n",
        "        print(\"None\")\n",
        "\n",
        "queue = Queue()\n",
        "queue.enqueue(1)\n",
        "queue.enqueue(2)\n",
        "queue.enqueue(3)\n",
        "queue.display()\n",
        "\n",
        "queue.dequeue()\n",
        "queue.display()"
      ],
      "metadata": {
        "colab": {
          "base_uri": "https://localhost:8080/"
        },
        "id": "4y-yh3sgpruM",
        "outputId": "844b8e12-5e4f-42e3-f5f9-0634f33121af"
      },
      "execution_count": 10,
      "outputs": [
        {
          "output_type": "stream",
          "name": "stdout",
          "text": [
            "1 -> 2 -> 3 -> None\n",
            "2 -> 3 -> None\n"
          ]
        }
      ]
    }
  ]
}