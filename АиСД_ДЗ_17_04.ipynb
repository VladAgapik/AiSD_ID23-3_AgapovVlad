{
 "cells": [
  {
   "cell_type": "markdown",
   "id": "8d76cd40",
   "metadata": {},
   "source": [
    "№28.1"
   ]
  },
  {
   "cell_type": "markdown",
   "id": "b1aa87d4",
   "metadata": {},
   "source": [
    "\n",
    "а) Напишите лямбда-функцию, которая добавляет 15 к заданному числу, переданному в качестве аргумента, а также лямбда-функцию, которая умножает аргумент x на аргумент y, и выведите результат.\n",
    "б) Найти максимальное и минимальное значения в заданном списке кортежей с помощью лямбда-функции.\n",
    "в) Извлечь строки с заданной длиной из списка строковых значений с помощью лямбда-функции."
   ]
  },
  {
   "cell_type": "code",
   "execution_count": 1,
   "id": "716c860b",
   "metadata": {},
   "outputs": [
    {
     "name": "stdout",
     "output_type": "stream",
     "text": [
      "25\n",
      "15\n"
     ]
    }
   ],
   "source": [
    "#a\n",
    "# Лямбда-функция для добавления 15\n",
    "add_15 = lambda x: x + 15\n",
    "\n",
    "# Лямбда-функция для умножения\n",
    "multiply = lambda x, y: x * y\n",
    "\n",
    "# Вывод результата\n",
    "print(add_15(10))  \n",
    "print(multiply(3, 5))  "
   ]
  },
  {
   "cell_type": "code",
   "execution_count": 2,
   "id": "b3958901",
   "metadata": {},
   "outputs": [
    {
     "name": "stdout",
     "output_type": "stream",
     "text": [
      "(7, 8)\n",
      "(1, 2)\n"
     ]
    }
   ],
   "source": [
    "#б\n",
    "# Список кортежей\n",
    "list_of_tuples = [(1, 2), (3, 4), (5, 6), (7, 8)]\n",
    "\n",
    "# Лямбда-функция для извлечения первого элемента кортежа\n",
    "get_first = lambda x: x[0]\n",
    "\n",
    "# Поиск максимального и минимального значений\n",
    "max_value = max(list_of_tuples, key=get_first)\n",
    "min_value = min(list_of_tuples, key=get_first)\n",
    "\n",
    "# Вывод результата\n",
    "print(max_value)  #\n",
    "print(min_value)  "
   ]
  },
  {
   "cell_type": "code",
   "execution_count": 4,
   "id": "33aa7df6",
   "metadata": {},
   "outputs": [
    {
     "name": "stdout",
     "output_type": "stream",
     "text": [
      "['dog', 'cat']\n"
     ]
    }
   ],
   "source": [
    "#в\n",
    "# Список строк\n",
    "list_of_strings = [\"apple\", \"banana\", \"cherry\", \"dog\", \"cat\"]\n",
    "\n",
    "# Лямбда-функция для проверки длины строки\n",
    "check_length = lambda x: len(x) == 3\n",
    "\n",
    "# Извлечение строк с длиной 5\n",
    "result = list(filter(check_length, list_of_strings))\n",
    "\n",
    "# Вывод результата\n",
    "print(result)"
   ]
  },
  {
   "cell_type": "markdown",
   "id": "30ccbec5",
   "metadata": {},
   "source": [
    "№29.1"
   ]
  },
  {
   "cell_type": "markdown",
   "id": "25637181",
   "metadata": {},
   "source": [
    "а) Утройте все числа из заданного списка целых чисел, используя функцию map().\n",
    "б) Сгенерировать список целых чисел. С помощью функции filter() выбрать из списка все нечетные числа и упорядочить их по убыванию. Используя функцию reduce(), найти их произведение."
   ]
  },
  {
   "cell_type": "code",
   "execution_count": 5,
   "id": "a0dfd2fc",
   "metadata": {},
   "outputs": [
    {
     "name": "stdout",
     "output_type": "stream",
     "text": [
      "[3, 6, 9, 12, 15]\n"
     ]
    }
   ],
   "source": [
    "#а\n",
    "# Список целых чисел\n",
    "numbers = [1, 2, 3, 4, 5]\n",
    "\n",
    "# Функция для утроения числа\n",
    "triple = lambda x: x * 3\n",
    "\n",
    "# Утроение чисел с помощью map()\n",
    "result = list(map(triple, numbers))\n",
    "\n",
    "# Вывод результата\n",
    "print(result)  "
   ]
  },
  {
   "cell_type": "code",
   "execution_count": 8,
   "id": "2448a33f",
   "metadata": {},
   "outputs": [
    {
     "name": "stdout",
     "output_type": "stream",
     "text": [
      "945\n"
     ]
    }
   ],
   "source": [
    "#б\n",
    "from functools import reduce\n",
    "\n",
    "# Сгенерировать список целых чисел\n",
    "numbers = range(1, 10)\n",
    "\n",
    "# Функция для проверки нечетности числа\n",
    "is_odd = lambda x: x % 2 == 1\n",
    "\n",
    "# Фильтрация нечетных чисел с помощью filter()\n",
    "odd_numbers = list(filter(is_odd, numbers))\n",
    "\n",
    "# Сортировка нечетных чисел по убыванию\n",
    "odd_numbers.sort(reverse=True)\n",
    "\n",
    "# Умножение нечетных чисел с помощью reduce()\n",
    "product = reduce(lambda x, y: x * y, odd_numbers)\n",
    "\n",
    "# Вывод результата\n",
    "print(product)  "
   ]
  },
  {
   "cell_type": "markdown",
   "id": "8b455172",
   "metadata": {},
   "source": [
    "№30.1"
   ]
  },
  {
   "cell_type": "markdown",
   "id": "554dc0c6",
   "metadata": {},
   "source": [
    "\n",
    "а) Создайте декоратор, который будет выводить время выполнения функции и сохранять его в файл.\n",
    "б) Создайте декоратор, который будет принимать аргументы и передавать их в функцию в качестве позиционных параметров с заданными значениями по умолчанию."
   ]
  },
  {
   "cell_type": "code",
   "execution_count": 10,
   "id": "7a35a7c6",
   "metadata": {},
   "outputs": [
    {
     "data": {
      "text/plain": [
       "3"
      ]
     },
     "execution_count": 10,
     "metadata": {},
     "output_type": "execute_result"
    }
   ],
   "source": [
    "#а\n",
    "import time\n",
    "import functools\n",
    "\n",
    "def timing_decorator(filename):\n",
    "    def wrapper(func):\n",
    "        @functools.wraps(func)\n",
    "        def wrapped(*args, **kwargs):\n",
    "            start = time.time()\n",
    "            result = func(*args, **kwargs)\n",
    "            end = time.time()\n",
    "            with open(filename, \"a\") as f:\n",
    "                f.write(f\"{func.__name__} execution time: {end - start}\\n\")\n",
    "            return result\n",
    "        return wrapped\n",
    "    return wrapper\n",
    "\n",
    "\n",
    "# Использование декоратора\n",
    "@timing_decorator(\"timing.txt\")\n",
    "def my_function(a, b):\n",
    "    time.sleep(1)\n",
    "    return a + b\n",
    "\n",
    "# Выполнение функции\n",
    "my_function(1, 2)"
   ]
  },
  {
   "cell_type": "code",
   "execution_count": 12,
   "id": "0dec2e7c",
   "metadata": {},
   "outputs": [
    {
     "name": "stdout",
     "output_type": "stream",
     "text": [
      "40\n"
     ]
    }
   ],
   "source": [
    "#б\n",
    "def arg_decorator(arg1, arg2):\n",
    "    def decorator(func):\n",
    "        def wrapper(*args, **kwargs):\n",
    "            result = func(arg1, arg2, *args, **kwargs)\n",
    "            return result\n",
    "        return wrapper\n",
    "    return decorator\n",
    "\n",
    "# Пример использования декоратора\n",
    "@arg_decorator(10, 20)\n",
    "def add_numbers(a, b, c, d):\n",
    "    return a + b + c + d\n",
    "\n",
    "result = add_numbers(5, 5)\n",
    "print(result)  "
   ]
  }
 ],
 "metadata": {
  "kernelspec": {
   "display_name": "Python 3 (ipykernel)",
   "language": "python",
   "name": "python3"
  },
  "language_info": {
   "codemirror_mode": {
    "name": "ipython",
    "version": 3
   },
   "file_extension": ".py",
   "mimetype": "text/x-python",
   "name": "python",
   "nbconvert_exporter": "python",
   "pygments_lexer": "ipython3",
   "version": "3.11.5"
  }
 },
 "nbformat": 4,
 "nbformat_minor": 5
}
